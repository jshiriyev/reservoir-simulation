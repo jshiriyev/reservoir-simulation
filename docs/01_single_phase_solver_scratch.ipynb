{
 "cells": [
  {
   "cell_type": "code",
   "execution_count": 1,
   "metadata": {},
   "outputs": [],
   "source": [
    "import matplotlib.pyplot as plt"
   ]
  },
  {
   "cell_type": "code",
   "execution_count": 2,
   "metadata": {
    "executionInfo": {
     "elapsed": 327,
     "status": "ok",
     "timestamp": 1739529070832,
     "user": {
      "displayName": "Javid Shiriyev",
      "userId": "04377657040188470328"
     },
     "user_tz": -240
    },
    "id": "5vRIadbjAxqE"
   },
   "outputs": [],
   "source": [
    "import numpy as np"
   ]
  },
  {
   "cell_type": "markdown",
   "metadata": {},
   "source": [
    "# Single Phase Linear Solver\n",
    "The Simulator is structured into six main stages, each contributing to an efficient and accurate reservoir simulation process. The workflow ensures modularity, ease of debugging, and scalability while maintaining computational efficiency.\n",
    "\n",
    "1. Input Data\n",
    "2. Gridding\n",
    "3. Property Calculation\n",
    "4. Configuration\n",
    "5. Simulation\n",
    "6. Post-Processing\n",
    "\n",
    "This structured workflow ensures a systematic approach to reservoir simulation, allowing for improved accuracy, efficiency, and adaptability. The modular design enables easy integration of additional physics, optimization routines, and extended functionalities."
   ]
  },
  {
   "cell_type": "markdown",
   "metadata": {},
   "source": [
    "## Input Data\n",
    "This stage involves reading and parsing all necessary input parameters required for the simulation. These include:\n",
    "- Grid properties (geometry and dimensions)\n",
    "- Reservoir rock properties (porosity, permeability, depth, etc.)\n",
    "- Fluid properties (PVT data, viscosity, compressibility, etc.)\n",
    "- Well constraints (rates, pressures, productivity index, etc.)\n",
    "- Numerical control parameters (tolerances, max iterations, etc.)\n",
    "- Boundary and initial conditions (pressure and saturation distributions)"
   ]
  },
  {
   "cell_type": "markdown",
   "metadata": {},
   "source": [
    "Grid Properties:"
   ]
  },
  {
   "cell_type": "code",
   "execution_count": 3,
   "metadata": {},
   "outputs": [],
   "source": [
    "xdelta = np.array([750,1000,1250])\n",
    "ydelta = np.array([750,1000,1250])\n",
    "zdelta = 20"
   ]
  },
  {
   "cell_type": "markdown",
   "metadata": {},
   "source": [
    "Reservoir Rock Properties:"
   ]
  },
  {
   "cell_type": "code",
   "execution_count": 4,
   "metadata": {},
   "outputs": [],
   "source": [
    "xperm = np.array([50,100,200,100,150,250,150,200,300])\n",
    "yperm = xperm/2\n",
    "zperm = xperm/10"
   ]
  },
  {
   "cell_type": "code",
   "execution_count": 5,
   "metadata": {},
   "outputs": [],
   "source": [
    "poro = np.array([0.15,0.18,0.20,0.17,0.20,0.22,0.22,0.25,0.26])"
   ]
  },
  {
   "cell_type": "markdown",
   "metadata": {},
   "source": [
    "Fluid Properties"
   ]
  },
  {
   "cell_type": "code",
   "execution_count": 6,
   "metadata": {},
   "outputs": [],
   "source": [
    "visc = 5"
   ]
  },
  {
   "cell_type": "markdown",
   "metadata": {},
   "source": [
    "In the notebook, class interfaces are designed to follow oilfield units, while the only underscored property is kept in SI units for computational purposes."
   ]
  },
  {
   "cell_type": "markdown",
   "metadata": {},
   "source": [
    "## Gridding\n",
    "The simulator constructs a computational grid to represent the reservoir. This process includes:\n",
    "- Defining grid dimensions and discretization (structured grids)\n",
    "- Generating neighboring connectivity and indexing for efficient computations\n",
    "\n",
    "To achieve the interface objective, we first define a base Grid class that serves as the interface for a user:"
   ]
  },
  {
   "cell_type": "code",
   "execution_count": 7,
   "metadata": {},
   "outputs": [],
   "source": [
    "class GridBase():\n",
    "\n",
    "\tdef __init__(self,xdelta,ydelta,zdelta):\n",
    "\t\t\"\"\"Initialize grid deltas in feet. Internally stored in meters.\"\"\"\n",
    "\t\tself.xdelta = xdelta # ft\n",
    "\t\tself.ydelta = ydelta # ft\n",
    "\t\tself.zdelta = zdelta # ft\n",
    "\t\t\n",
    "\t@property\n",
    "\tdef xdelta(self):\n",
    "\t\treturn self._xdelta/0.3048\n",
    "\n",
    "\t@xdelta.setter\n",
    "\tdef xdelta(self,value):\n",
    "\t\tself._xdelta = np.asarray(value).flatten().astype(np.float64)*0.3048\n",
    "\n",
    "\t@property\n",
    "\tdef ydelta(self):\n",
    "\t\treturn self._ydelta/0.3048\n",
    "\n",
    "\t@ydelta.setter\n",
    "\tdef ydelta(self,value):\n",
    "\t\tself._ydelta = np.asarray(value).flatten().astype(np.float64)*0.3048\n",
    "\n",
    "\t@property\n",
    "\tdef zdelta(self):\n",
    "\t\treturn self._zdelta/0.3048\n",
    "\n",
    "\t@zdelta.setter\n",
    "\tdef zdelta(self,value):\n",
    "\t\tself._zdelta = np.asarray(value).flatten().astype(np.float64)*0.3048"
   ]
  },
  {
   "cell_type": "markdown",
   "metadata": {},
   "source": [
    "Next, we define a Grid class that inherits from GridBase and is utilized by the solver's assembler."
   ]
  },
  {
   "cell_type": "code",
   "execution_count": 8,
   "metadata": {},
   "outputs": [],
   "source": [
    "class Grid(GridBase):\n",
    "\n",
    "    def __init__(self,plat,xdelta,ydelta,zdelta):        \n",
    "        super().__init__(xdelta,ydelta,zdelta)\n",
    "        self.plat = plat\n",
    "        self.volume = None\n",
    "\n",
    "    @property\n",
    "    def nums(self):\n",
    "        \"\"\"Returns total number of grids.\"\"\"\n",
    "        return self.plat.shape[0]\n",
    "\n",
    "    @property\n",
    "    def dims(self):\n",
    "        return int(self.plat.shape[1]/2)\n",
    "\n",
    "    @property\n",
    "    def index(self):\n",
    "        return np.arange(self.nums)\n",
    "\n",
    "    @property\n",
    "    def volume(self):\n",
    "        return self._volume*35.3147\n",
    "\n",
    "    @volume.setter\n",
    "    def volume(self,value):\n",
    "        self._volume = np.prod((self._xdelta,self._ydelta,self._zdelta),axis=0)"
   ]
  },
  {
   "cell_type": "markdown",
   "metadata": {},
   "source": [
    "Finally, we define the GridDelta class, which returns an instance of the Grid class when referenced."
   ]
  },
  {
   "cell_type": "code",
   "execution_count": 9,
   "metadata": {},
   "outputs": [],
   "source": [
    "class GridDelta(GridBase):\n",
    "\t\"\"\"Gridding based on delta values.\"\"\"\n",
    "\tdef __init__(self,xdelta,ydelta,zdelta):\n",
    "\t\tsuper().__init__(xdelta,ydelta,zdelta)\t\n",
    "\n",
    "\t@property\n",
    "\tdef nums(self):\n",
    "\t\t\"\"\"Returns tuple of (xnums,ynums,znums).\"\"\"\n",
    "\t\treturn (self.xnums,self.ynums,self.znums)\n",
    "\n",
    "\t@property\n",
    "\tdef xnums(self):\n",
    "\t\treturn self._xdelta.size\n",
    "\n",
    "\t@property\n",
    "\tdef ynums(self):\n",
    "\t\treturn self._ydelta.size\n",
    "\n",
    "\t@property\n",
    "\tdef znums(self):\n",
    "\t\treturn self._zdelta.size\n",
    "\n",
    "\t@property\n",
    "\tdef dims(self) -> int:\n",
    "\t\t\"\"\"Returns the number of dimensions based on self.nums.\"\"\"\n",
    "\t\treturn next((i+1 for i in range(2,-1,-1) if self.nums[i]>1),1)\n",
    "\n",
    "\t@property\n",
    "\tdef index(self):\n",
    "\t\treturn np.arange(np.prod(self.nums))\n",
    "\n",
    "\t@property\n",
    "\tdef grid(self):\n",
    "\n",
    "\t\txdelta = np.tile(self.xdelta,self.ynums*self.znums)\n",
    "\t\tydelta = np.tile(np.repeat(self.ydelta,self.xnums),self.znums)\n",
    "\t\tzdelta = np.repeat(self.zdelta,self.xnums*self.ynums)\n",
    "\n",
    "\t\treturn Grid(self.plat,xdelta,ydelta,zdelta)\n",
    "\n",
    "\t@property\n",
    "\tdef plat(self):\n",
    "\t\t\"\"\"Plat of grids that locates neighbor index information.\"\"\"\n",
    "\t\tmap_ = np.tile(self.index,(self.dims*2,1)).T\n",
    "\n",
    "\t\tmap_[self.index.reshape(-1,self.xnums)[:,1:].ravel(),0] -= 1\n",
    "\t\tmap_[self.index.reshape(-1,self.xnums)[:,:-1].ravel(),1] += 1\n",
    "\n",
    "\t\tif self.dims>1:\n",
    "\t\t\tmap_[self.index.reshape(self.znums,-1)[:,self.xnums:],2] -= self.xnums\n",
    "\t\t\tmap_[self.index.reshape(self.znums,-1)[:,:-self.xnums],3] += self.xnums\n",
    "\n",
    "\t\tif self.dims>2:\n",
    "\t\t\tmap_[self.index.reshape(self.znums,-1)[1:,:],4] -= self.xnums*self.ynums\n",
    "\t\t\tmap_[self.index.reshape(self.znums,-1)[:-1,:],5] += self.xnums*self.ynums\n",
    "\n",
    "\t\treturn map_"
   ]
  },
  {
   "cell_type": "markdown",
   "metadata": {},
   "source": [
    "Now, let us utilize the GridDelta class with the provided input data."
   ]
  },
  {
   "cell_type": "code",
   "execution_count": 10,
   "metadata": {},
   "outputs": [],
   "source": [
    "delta = GridDelta(xdelta,ydelta,20)"
   ]
  },
  {
   "cell_type": "code",
   "execution_count": 11,
   "metadata": {},
   "outputs": [
    {
     "data": {
      "text/plain": [
       "array([ 750., 1000., 1250.])"
      ]
     },
     "execution_count": 11,
     "metadata": {},
     "output_type": "execute_result"
    }
   ],
   "source": [
    "delta.xdelta"
   ]
  },
  {
   "cell_type": "code",
   "execution_count": 12,
   "metadata": {},
   "outputs": [
    {
     "data": {
      "text/plain": [
       "array([ 750., 1000., 1250.])"
      ]
     },
     "execution_count": 12,
     "metadata": {},
     "output_type": "execute_result"
    }
   ],
   "source": [
    "delta.ydelta"
   ]
  },
  {
   "cell_type": "code",
   "execution_count": 13,
   "metadata": {},
   "outputs": [
    {
     "data": {
      "text/plain": [
       "2"
      ]
     },
     "execution_count": 13,
     "metadata": {},
     "output_type": "execute_result"
    }
   ],
   "source": [
    "delta.dims"
   ]
  },
  {
   "cell_type": "code",
   "execution_count": 14,
   "metadata": {},
   "outputs": [
    {
     "data": {
      "text/plain": [
       "2"
      ]
     },
     "execution_count": 14,
     "metadata": {},
     "output_type": "execute_result"
    }
   ],
   "source": [
    "delta.grid.dims"
   ]
  },
  {
   "cell_type": "code",
   "execution_count": 15,
   "metadata": {},
   "outputs": [
    {
     "data": {
      "text/plain": [
       "array([11250010.60135316, 15000014.13513754, 18750017.66892192,\n",
       "       15000014.13513754, 20000018.84685005, 25000023.55856256,\n",
       "       18750017.66892192, 25000023.55856256, 31250029.4482032 ])"
      ]
     },
     "execution_count": 15,
     "metadata": {},
     "output_type": "execute_result"
    }
   ],
   "source": [
    "delta.grid.volume"
   ]
  },
  {
   "cell_type": "code",
   "execution_count": 16,
   "metadata": {},
   "outputs": [
    {
     "data": {
      "text/plain": [
       "array([0, 1, 2, 3, 4, 5, 6, 7, 8])"
      ]
     },
     "execution_count": 16,
     "metadata": {},
     "output_type": "execute_result"
    }
   ],
   "source": [
    "delta.index"
   ]
  },
  {
   "cell_type": "code",
   "execution_count": 17,
   "metadata": {},
   "outputs": [
    {
     "data": {
      "text/plain": [
       "array([[0, 1, 0, 3],\n",
       "       [0, 2, 1, 4],\n",
       "       [1, 2, 2, 5],\n",
       "       [3, 4, 0, 6],\n",
       "       [3, 5, 1, 7],\n",
       "       [4, 5, 2, 8],\n",
       "       [6, 7, 3, 6],\n",
       "       [6, 8, 4, 7],\n",
       "       [7, 8, 5, 8]])"
      ]
     },
     "execution_count": 17,
     "metadata": {},
     "output_type": "execute_result"
    }
   ],
   "source": [
    "delta.plat"
   ]
  },
  {
   "cell_type": "markdown",
   "metadata": {},
   "source": [
    "## Reservoir Rock and Fluid Property Calculation\n",
    "In general, this step determines essential reservoir rock and fluid properties at each grid block. It includes:\n",
    "- Permeability and porosity of the grids\n",
    "- Rock compressibility adjustments for pressure variations\n",
    "- Relative permeability and capillary pressure calculations\n",
    "- Black oil PVT calculations (formation volume factor, solution gas-oil ratio, etc.)\n",
    "\n",
    "We define the PorMed class, which encapsulates all the rock properties required for reservoir simulation with the interface objective in mind."
   ]
  },
  {
   "cell_type": "code",
   "execution_count": 18,
   "metadata": {
    "executionInfo": {
     "elapsed": 361,
     "status": "ok",
     "timestamp": 1739530671076,
     "user": {
      "displayName": "Javid Shiriyev",
      "userId": "04377657040188470328"
     },
     "user_tz": -240
    },
    "id": "rQtItyGN8k2g"
   },
   "outputs": [],
   "source": [
    "class PorMed():\n",
    "    \n",
    "    def __init__(self,xperm,poro=None,**kwargs):\n",
    "\n",
    "        self.set_perm(xperm,**kwargs)\n",
    "        \n",
    "        self.poro = poro # fraction\n",
    "        \n",
    "    @property\n",
    "    def perm(self):\n",
    "        return self._perm/9.869233e-16\n",
    "        \n",
    "    def set_perm(self,xperm,*,yperm=None,zperm=None,yreduce:float=1.,zreduce:float=10.):\n",
    "        \"\"\"Assigns the permeability values in mD to the grids.\n",
    "    \n",
    "        xperm \t: permeability in x-direction, mD\n",
    "        yperm   : permeability in y direction, mD\n",
    "        zperm   : permeability in z direction, mD\n",
    "    \n",
    "        yreduce : xperm to yperm ratio, dimensionless\n",
    "        zreduce : xperm to zperm ratio, dimensionless\n",
    "    \n",
    "        \"\"\"\n",
    "        self.xperm = xperm\n",
    "        self.yperm = (yperm,yreduce)\n",
    "        self.zperm = (zperm,zreduce)\n",
    "\n",
    "        self._perm = np.column_stack((self._xperm,self._yperm,self._zperm))\n",
    "\n",
    "    @property\n",
    "    def xperm(self):\n",
    "        return self._xperm/9.869233e-16\n",
    "\n",
    "    @xperm.setter\n",
    "    def xperm(self,value):\n",
    "        self._xperm = value*9.869233e-16\n",
    "\n",
    "    @property\n",
    "    def yperm(self):\n",
    "        return self._yperm/9.869233e-16\n",
    "\n",
    "    @yperm.setter\n",
    "    def yperm(self,value):\n",
    "        self._yperm = self._xperm/value[1] if value[0] is None else value[0]*9.869233e-16\n",
    "    \n",
    "    @property\n",
    "    def zperm(self):\n",
    "        return self._zperm/9.869233e-16\n",
    "\n",
    "    @zperm.setter\n",
    "    def zperm(self,value):\n",
    "        self._zperm = self._xperm/value[1] if value[0] is None else value[0]*9.869233e-16\n",
    "\n",
    "    @property\n",
    "    def poro(self):\n",
    "        return self._poro\n",
    "        \n",
    "    @poro.setter\n",
    "    def poro(self,value):\n",
    "        self._poro = value"
   ]
  },
  {
   "cell_type": "markdown",
   "metadata": {},
   "source": [
    "Now, let us utilize the PorMed class with the provided input data."
   ]
  },
  {
   "cell_type": "code",
   "execution_count": 19,
   "metadata": {},
   "outputs": [],
   "source": [
    "res = PorMed(xperm,yperm=yperm,zperm=zperm,poro=poro)"
   ]
  },
  {
   "cell_type": "code",
   "execution_count": 20,
   "metadata": {},
   "outputs": [
    {
     "data": {
      "text/plain": [
       "array([ 50., 100., 200., 100., 150., 250., 150., 200., 300.])"
      ]
     },
     "execution_count": 20,
     "metadata": {},
     "output_type": "execute_result"
    }
   ],
   "source": [
    "res.xperm"
   ]
  },
  {
   "cell_type": "code",
   "execution_count": 21,
   "metadata": {},
   "outputs": [
    {
     "data": {
      "text/plain": [
       "array([ 25.,  50., 100.,  50.,  75., 125.,  75., 100., 150.])"
      ]
     },
     "execution_count": 21,
     "metadata": {},
     "output_type": "execute_result"
    }
   ],
   "source": [
    "res.yperm"
   ]
  },
  {
   "cell_type": "code",
   "execution_count": 22,
   "metadata": {},
   "outputs": [
    {
     "data": {
      "text/plain": [
       "array([0.15, 0.18, 0.2 , 0.17, 0.2 , 0.22, 0.22, 0.25, 0.26])"
      ]
     },
     "execution_count": 22,
     "metadata": {},
     "output_type": "execute_result"
    }
   ],
   "source": [
    "res.poro"
   ]
  },
  {
   "cell_type": "markdown",
   "metadata": {},
   "source": [
    "### Fluid Properties"
   ]
  },
  {
   "cell_type": "markdown",
   "metadata": {},
   "source": [
    "The only fluid property important for now is the viscosity"
   ]
  },
  {
   "cell_type": "code",
   "execution_count": 23,
   "metadata": {
    "executionInfo": {
     "elapsed": 370,
     "status": "ok",
     "timestamp": 1739532888126,
     "user": {
      "displayName": "Javid Shiriyev",
      "userId": "04377657040188470328"
     },
     "user_tz": -240
    },
    "id": "P6n7PjLtHy8C"
   },
   "outputs": [],
   "source": [
    "class Fluid():\n",
    "\n",
    "  def __init__(self,visc):\n",
    "    self.visc = visc # cp\n",
    "\n",
    "  @property\n",
    "  def visc(self):\n",
    "    return self._visc*1000\n",
    "\n",
    "  @visc.setter\n",
    "  def visc(self,value):\n",
    "    self._visc = value/1000"
   ]
  },
  {
   "cell_type": "markdown",
   "metadata": {},
   "source": [
    "Utilizing the class for the exercise"
   ]
  },
  {
   "cell_type": "code",
   "execution_count": 24,
   "metadata": {},
   "outputs": [],
   "source": [
    "oil = Fluid(visc=5)"
   ]
  },
  {
   "cell_type": "code",
   "execution_count": 25,
   "metadata": {},
   "outputs": [
    {
     "data": {
      "text/plain": [
       "5.0"
      ]
     },
     "execution_count": 25,
     "metadata": {},
     "output_type": "execute_result"
    }
   ],
   "source": [
    "oil.visc"
   ]
  },
  {
   "cell_type": "markdown",
   "metadata": {},
   "source": [
    "## Configuration\n",
    "Before running the simulation, the system needs initialization and setup:\n",
    "- Establishing initial reservoir conditions (pressure and saturation distributions)\n",
    "- Setting up time stepping\n",
    "- Defining well configurations and operating constraints (BHP control, rate control, etc.)\n",
    "- Assigning production and injection schedules\n",
    "\n",
    "Below we configure time settings:"
   ]
  },
  {
   "cell_type": "code",
   "execution_count": 26,
   "metadata": {},
   "outputs": [],
   "source": [
    "class Time():\n",
    "\t\"\"\"Time class for the reservoir simulation\"\"\"\n",
    "\tdef __init__(self,delta:float,total:float):\n",
    "\t\t\"\"\"Defining the time settings for the simulator\n",
    "\n",
    "\t\tdelta   : first time step defined in days\n",
    "\t\ttotal   : total simulation time defined in days\n",
    "\t\t\"\"\"\n",
    "\n",
    "\t\tself.delta = delta\n",
    "\t\tself.total = total\n",
    "\n",
    "\t\tself.times = None\n",
    "\t\tself.steps = None\n",
    "\n",
    "\t@property\n",
    "\tdef delta(self):\n",
    "\t\treturn self._delta/(24*60*60)\n",
    "\n",
    "\t@delta.setter\n",
    "\tdef delta(self,value):\n",
    "\t\tself._delta = value*24*60*60\n",
    "\n",
    "\t@property\n",
    "\tdef total(self):\n",
    "\t\treturn self._total/(24*60*60)\n",
    "\n",
    "\t@total.setter\n",
    "\tdef total(self,value):\n",
    "\t\tself._total = value*24*60*60\n",
    "\n",
    "\t@property\n",
    "\tdef times(self):\n",
    "\t\treturn self._times/(24*60*60)\n",
    "\n",
    "\t@times.setter\n",
    "\tdef times(self,value):\n",
    "\t\t\"\"\"Sets linearly spaced time data.\"\"\"\n",
    "\t\tself._times = np.arange(\n",
    "\t\t\tself._total+self._delta/2,step=self._delta)\n",
    "\n",
    "\t@property\n",
    "\tdef steps(self):\n",
    "\t\treturn self._steps/(24*60*60)\n",
    "\n",
    "\t@steps.setter\n",
    "\tdef steps(self,value):\n",
    "\t\t\"\"\"Sets the time steps in the given time array.\"\"\"\n",
    "\t\tself._steps = self._times[1:]-self._times[:-1]\n",
    "\n",
    "\tdef __iter__(self):\n",
    "\t\t\"\"\"It starts from 0 time and iterates till the last time step.\"\"\"\n",
    "\n",
    "\t\tzipped = zip(self._times,self._steps)\n",
    "\n",
    "\t\tfor index,(time,step) in enumerate(zipped):\n",
    "\n",
    "\t\t\tyield index,time,step\n",
    "\n",
    "\t@property\n",
    "\tdef nums(self):\n",
    "\t\treturn self._steps.size"
   ]
  },
  {
   "cell_type": "code",
   "execution_count": 27,
   "metadata": {},
   "outputs": [],
   "source": [
    "time = Time(1,5)"
   ]
  },
  {
   "cell_type": "code",
   "execution_count": 28,
   "metadata": {},
   "outputs": [
    {
     "data": {
      "text/plain": [
       "5.0"
      ]
     },
     "execution_count": 28,
     "metadata": {},
     "output_type": "execute_result"
    }
   ],
   "source": [
    "time.total"
   ]
  },
  {
   "cell_type": "code",
   "execution_count": 29,
   "metadata": {},
   "outputs": [
    {
     "data": {
      "text/plain": [
       "array([1., 1., 1., 1., 1.])"
      ]
     },
     "execution_count": 29,
     "metadata": {},
     "output_type": "execute_result"
    }
   ],
   "source": [
    "time.steps"
   ]
  },
  {
   "cell_type": "code",
   "execution_count": 30,
   "metadata": {},
   "outputs": [
    {
     "data": {
      "text/plain": [
       "5"
      ]
     },
     "execution_count": 30,
     "metadata": {},
     "output_type": "execute_result"
    }
   ],
   "source": [
    "time.nums"
   ]
  },
  {
   "cell_type": "code",
   "execution_count": 31,
   "metadata": {},
   "outputs": [
    {
     "name": "stdout",
     "output_type": "stream",
     "text": [
      "0 0.0 86400.0\n",
      "1 86400.0 86400.0\n",
      "2 172800.0 86400.0\n",
      "3 259200.0 86400.0\n",
      "4 345600.0 86400.0\n"
     ]
    }
   ],
   "source": [
    "for index,current,step in time:\n",
    "    print(index,current,step)"
   ]
  },
  {
   "cell_type": "markdown",
   "metadata": {},
   "source": [
    "## Simulation\n",
    "The core of the simulator solves the governing equations for mass conservation and flow dynamics. This involves:\n",
    "- Computing block-centered and inter-block transmissibilities\n",
    "- Applying the appropriate numerical scheme (fully implicit, explicit, or IMPES hybrid approach)\n",
    "- Constructing linearized system matrices\n",
    "- Solving the system using direct or iterative solvers\n",
    "- Updating properties and advancing in time\n",
    "\n",
    "First, we define a Matrix class that facilitates interaction between the builder and the solver:"
   ]
  },
  {
   "cell_type": "code",
   "execution_count": 32,
   "metadata": {},
   "outputs": [],
   "source": [
    "class Matrix():\n",
    "\n",
    "    def __init__(self,T:np.ndarray,J:np.ndarray,A:np.ndarray,Q:np.ndarray,G:np.ndarray):\n",
    "        \"\"\"\n",
    "        T   : Inter-block transmissibility, matrix\n",
    "        J   : Productivity index, diagonal matrix\n",
    "        A   : Block accumulation, diagonal matrix\n",
    "        Q   : Source term, vector\n",
    "        G   : Gravity term, vector\n",
    "        \"\"\"\n",
    "        self.T = T # transmissibility\n",
    "        self.J = J # productivity\n",
    "        self.A = A # block accumulation\n",
    "        self.Q = Q # source\n",
    "        self.G = G # gravity\n",
    "\n",
    "    @property\n",
    "    def T(self):\n",
    "        \"\"\"Converting from SI Units to Oil Field Units.\"\"\"\n",
    "        return self._T*(3.28084**3)*(24*60*60)*6894.76\n",
    "\n",
    "    @T.setter\n",
    "    def T(self,value):\n",
    "        self._T = value/((3.28084**3)*(24*60*60)*6894.76)\n",
    "\n",
    "    @property\n",
    "    def J(self):\n",
    "        \"\"\"Converting from SI Units to Oil Field Units.\"\"\"\n",
    "        return self._J*(3.28084**3)*(24*60*60)*6894.76\n",
    "\n",
    "    @J.setter\n",
    "    def J(self,value):\n",
    "        self._J = value/((3.28084**3)*(24*60*60)*6894.76)\n",
    "        \n",
    "    @property\n",
    "    def A(self):\n",
    "        \"\"\"Converting from SI Units to Oil Field Units.\"\"\"\n",
    "        return self._A*(3.28084**3)*(24*60*60)\n",
    "\n",
    "    @A.setter\n",
    "    def A(self,value):\n",
    "        self._A = value/((3.28084**3)*(24*60*60))\n",
    "\n",
    "    @property\n",
    "    def Q(self):\n",
    "        \"\"\"Converting from SI Units to Oil Field Units.\"\"\"\n",
    "        return self._Q*(3.28084**3)*(24*60*60)\n",
    "\n",
    "    @Q.setter\n",
    "    def Q(self,value):\n",
    "        self._Q = value/((3.28084**3)*(24*60*60))\n",
    "\n",
    "    @property\n",
    "    def G(self):\n",
    "        \"\"\"Converting from SI Units to Oil Field Units.\"\"\"\n",
    "        return self._G*(3.28084**3)*(24*60*60)\n",
    "\n",
    "    @G.setter\n",
    "    def G(self,value):\n",
    "        self._G = value/((3.28084**3)*(24*60*60))"
   ]
  },
  {
   "cell_type": "markdown",
   "metadata": {},
   "source": [
    "### Block Calculations\n",
    "\n",
    "Block calculations are performed for transmissibility and storativity."
   ]
  },
  {
   "cell_type": "code",
   "execution_count": 33,
   "metadata": {
    "executionInfo": {
     "elapsed": 472,
     "status": "ok",
     "timestamp": 1739532911106,
     "user": {
      "displayName": "Javid Shiriyev",
      "userId": "04377657040188470328"
     },
     "user_tz": -240
    },
    "id": "krY5CX43G5cO"
   },
   "outputs": [],
   "source": [
    "class Block():\n",
    "\n",
    "    def __init__(self,grid,res,fluid,*args):\n",
    "\n",
    "        self.grid = grid\n",
    "        self.res = res\n",
    "        self.fluid = fluid\n",
    "        self.wells = args\n",
    "\n",
    "    def transmissibility(self):\n",
    "        self._Tx = self.res._xperm*self.grid._ydelta*self.grid._zdelta/self.grid._xdelta/self.fluid._visc\n",
    "        self._Ty = self.res._yperm*self.grid._zdelta*self.grid._xdelta/self.grid._ydelta/self.fluid._visc\n",
    "        self._Tz = self.res._zperm*self.grid._xdelta*self.grid._ydelta/self.grid._zdelta/self.fluid._visc\n",
    "\n",
    "    @property\n",
    "    def Tx(self):\n",
    "        return self._Tx*(3.28084**3)*(24*60*60)*6894.76\n",
    "    \n",
    "    @property\n",
    "    def Ty(self):\n",
    "        return self._Ty*(3.28084**3)*(24*60*60)*6894.76\n",
    "    \n",
    "    @property\n",
    "    def Tz(self):\n",
    "        return self._Tz*(3.28084**3)*(24*60*60)*6894.76\n",
    "\n",
    "    def accumulation(self,tdelta:float):\n",
    "        self._A = (self.grid._volume*self.res._poro)/(tdelta*86400)\n",
    "        \n",
    "    @property\n",
    "    def A(self):\n",
    "        return self._A*(3.28084**3)*(24*60*60)\n",
    "\n",
    "    def productivity(self):\n",
    "\n",
    "        self._J = []\n",
    "\n",
    "        for well in self.wells:\n",
    "            \n",
    "            if well.axis==\"x\":\n",
    "                k1 = self.res._yperm[list(well.block)]\n",
    "                k2 = self.res._zperm[list(well.block)]\n",
    "                w1 = self.grid._ydelta[list(well.block)]\n",
    "                w2 = self.grid._zdelta[list(well.block)]\n",
    "                w3 = self.grid._xdelta[list(well.block)]\n",
    "            elif well.axis=='y':\n",
    "                k1 = self.res._xperm[list(well.block)]\n",
    "                k2 = self.res._zperm[list(well.block)]\n",
    "                w1 = self.grid._xdelta[list(well.block)]\n",
    "                w2 = self.grid._zdelta[list(well.block)]\n",
    "                w3 = self.grid._ydelta[list(well.block)]\n",
    "            elif well.axis=='z':\n",
    "                k1 = self.res._xperm[list(well.block)]\n",
    "                k2 = self.res._yperm[list(well.block)]\n",
    "                w1 = self.grid._xdelta[list(well.block)]\n",
    "                w2 = self.grid._ydelta[list(well.block)]\n",
    "                w3 = self.grid._zdelta[list(well.block)]\n",
    "    \n",
    "            req = self.requivalent(k1,k2,w1,w2)\n",
    "        \n",
    "            self._J.append(2*np.pi*w3*np.sqrt(k1*k2)/(self.fluid._visc*(np.log(req/well._radius)+well.skin)))\n",
    "\n",
    "    @property\n",
    "    def J(self):\n",
    "        return [j*(3.28084**3)*(24*60*60)*6894.76 for j in self._J]\n",
    "\n",
    "    @staticmethod\n",
    "    def requivalent(perm1,perm2,edge1,edge2):\n",
    "        \"\"\"Returns equivalent radius of grids that contains well.\"\"\"\n",
    "        sqrt21 = np.power(perm2/perm1,1/2)*np.power(edge1,2)\n",
    "        sqrt12 = np.power(perm1/perm2,1/2)*np.power(edge2,2)\n",
    "\n",
    "        quar21 = np.power(perm2/perm1,1/4)\n",
    "        quar12 = np.power(perm1/perm2,1/4)\n",
    "\n",
    "        return 0.28*np.sqrt(sqrt21+sqrt12)/(quar21+quar12)"
   ]
  },
  {
   "cell_type": "code",
   "execution_count": null,
   "metadata": {},
   "outputs": [],
   "source": [
    "print(Block.requivalent(w1,delta.grid,res))\n",
    "print(Block.requivalent(w2,delta.grid,res))"
   ]
  },
  {
   "cell_type": "markdown",
   "metadata": {},
   "source": [
    "Integrating the grid, reservoir, and oil properties into the block calculation:"
   ]
  },
  {
   "cell_type": "code",
   "execution_count": 34,
   "metadata": {},
   "outputs": [],
   "source": [
    "block = Block(delta.grid,res,oil)\n",
    "block.transmissibility()\n",
    "block.storativity(1)"
   ]
  },
  {
   "cell_type": "code",
   "execution_count": 35,
   "metadata": {},
   "outputs": [
    {
     "data": {
      "text/plain": [
       "array([1.26565812, 1.89848718, 3.03757949, 3.37508832, 3.79697436,\n",
       "       5.06263248, 6.32829061, 6.32829061, 7.59394873])"
      ]
     },
     "execution_count": 35,
     "metadata": {},
     "output_type": "execute_result"
    }
   ],
   "source": [
    "block.Tx"
   ]
  },
  {
   "cell_type": "code",
   "execution_count": 36,
   "metadata": {},
   "outputs": [
    {
     "data": {
      "text/plain": [
       "array([0.63282906, 1.68754416, 4.2188604 , 0.94924359, 1.89848718,\n",
       "       3.95518163, 1.13909231, 2.02505299, 3.79697436])"
      ]
     },
     "execution_count": 36,
     "metadata": {},
     "output_type": "execute_result"
    }
   ],
   "source": [
    "block.Ty"
   ]
  },
  {
   "cell_type": "code",
   "execution_count": 37,
   "metadata": {},
   "outputs": [
    {
     "data": {
      "text/plain": [
       "array([ 177.98317328,  474.62179542, 1186.55448854,  474.62179542,\n",
       "        949.24359084, 1977.59081424,  889.91586641, 1582.07265139,\n",
       "       2966.38622136])"
      ]
     },
     "execution_count": 37,
     "metadata": {},
     "output_type": "execute_result"
    }
   ],
   "source": [
    "block.Tz"
   ]
  },
  {
   "cell_type": "code",
   "execution_count": 38,
   "metadata": {},
   "outputs": [
    {
     "data": {
      "text/plain": [
       "array([ 337500.0324    ,  540000.05184   ,  750000.072     ,\n",
       "        510000.04896   ,  800000.0768    , 1100000.1056    ,\n",
       "        825000.0792    , 1250000.12      , 1625000.15600001])"
      ]
     },
     "execution_count": 38,
     "metadata": {},
     "output_type": "execute_result"
    }
   ],
   "source": [
    "block.accumulation"
   ]
  },
  {
   "cell_type": "markdown",
   "metadata": {},
   "source": [
    "### Building Matrices\n",
    "\n",
    "Next, we define a Build class that constructs the matrices to be used in the solver."
   ]
  },
  {
   "cell_type": "code",
   "execution_count": 39,
   "metadata": {},
   "outputs": [],
   "source": [
    "class Build():\n",
    "\n",
    "    def __init__(self,plat):\n",
    "        self.plat = plat\n",
    "\n",
    "    @property\n",
    "    def nums(self):\n",
    "        return self.plat.shape[0]\n",
    "\n",
    "    @property\n",
    "    def dims(self):\n",
    "        return int(self.plat.shape[1]/2)\n",
    "\n",
    "    @property\n",
    "    def index(self):\n",
    "        return np.arange(self.nums)\n",
    "\n",
    "    def T(self,Tx,Ty,Tz):\n",
    "\n",
    "        index = self.index\n",
    "        \n",
    "        T = np.zeros((self.nums,self.nums))\n",
    "\n",
    "        Sxneg = index[self.plat[:,0]!=index]\n",
    "        Nxneg = self.plat[self.plat[:,0]!=index,0]\n",
    "\n",
    "        txneg = Build.harmonic_mean(Tx[Sxneg],Tx[Nxneg])\n",
    "        \n",
    "        T[Sxneg,Nxneg] -= txneg\n",
    "        T[Sxneg,Sxneg] += txneg\n",
    "        \n",
    "        Sxpos = index[self.plat[:,1]!=index]\n",
    "        Nxpos = self.plat[self.plat[:,1]!=index,1]\n",
    "\n",
    "        txpos = Build.harmonic_mean(Tx[Sxpos],Tx[Nxpos])\n",
    "        \n",
    "        T[Sxpos,Nxpos] -= txpos\n",
    "        T[Sxpos,Sxpos] += txpos\n",
    "        \n",
    "        Syneg = index[self.plat[:,2]!=index]\n",
    "        Nyneg = self.plat[self.plat[:,2]!=index,2]\n",
    "\n",
    "        tyneg = Build.harmonic_mean(Ty[Syneg],Ty[Nyneg])\n",
    "\n",
    "        T[Syneg,Nyneg] -= tyneg\n",
    "        T[Syneg,Syneg] += tyneg\n",
    "        \n",
    "        Sypos = index[self.plat[:,3]!=index]\n",
    "        Nypos = self.plat[self.plat[:,3]!=index,3]\n",
    "\n",
    "        typos = Build.harmonic_mean(Ty[Sypos],Ty[Nypos])\n",
    "\n",
    "        T[Sypos,Nypos] -= typos\n",
    "        T[Sypos,Sypos] += typos\n",
    "\n",
    "        return T\n",
    "\n",
    "    def A(self,accumulation):\n",
    "\n",
    "        A = np.zeros((self.nums,self.nums))\n",
    "\n",
    "        A[self.index,self.index] = accumulation\n",
    "\n",
    "        return A\n",
    "\n",
    "    @staticmethod\n",
    "    def harmonic_mean(term1,term2):\n",
    "        \"\"\"Returns harmonic mean of two terms, term1 and term 2.\"\"\"\n",
    "        return (2*term1*term2)/(term1+term2)"
   ]
  },
  {
   "cell_type": "code",
   "execution_count": 40,
   "metadata": {},
   "outputs": [],
   "source": [
    "build = Build(block.grid.plat)"
   ]
  },
  {
   "cell_type": "code",
   "execution_count": 41,
   "metadata": {},
   "outputs": [
    {
     "data": {
      "text/plain": [
       "array([[ 2.27818462, -1.51878975,  0.        , -0.75939487,  0.        ,\n",
       "         0.        ,  0.        ,  0.        ,  0.        ],\n",
       "       [-1.51878975,  5.64220082, -2.33659961,  0.        , -1.78681147,\n",
       "         0.        ,  0.        ,  0.        ,  0.        ],\n",
       "       [ 0.        , -2.33659961,  6.41936774,  0.        ,  0.        ,\n",
       "        -4.08276813,  0.        ,  0.        ,  0.        ],\n",
       "       [-0.75939487,  0.        ,  0.        ,  5.36855627, -3.57362293,\n",
       "         0.        , -1.03553846,  0.        ,  0.        ],\n",
       "       [ 0.        , -1.78681147,  0.        , -3.57362293, 11.65956237,\n",
       "        -4.33939927,  0.        , -1.9597287 ,  0.        ],\n",
       "       [ 0.        ,  0.        , -4.08276813,  0.        , -4.33939927,\n",
       "        12.29663104,  0.        ,  0.        , -3.87446364],\n",
       "       [ 0.        ,  0.        ,  0.        , -1.03553846,  0.        ,\n",
       "         0.        ,  7.36382907, -6.32829061,  0.        ],\n",
       "       [ 0.        ,  0.        ,  0.        ,  0.        , -1.9597287 ,\n",
       "         0.        , -6.32829061, 15.19160906, -6.90358975],\n",
       "       [ 0.        ,  0.        ,  0.        ,  0.        ,  0.        ,\n",
       "        -3.87446364,  0.        , -6.90358975, 10.77805339]])"
      ]
     },
     "execution_count": 41,
     "metadata": {},
     "output_type": "execute_result"
    }
   ],
   "source": [
    "T = build.T(block.Tx,block.Ty,block.Tx); T"
   ]
  },
  {
   "cell_type": "code",
   "execution_count": 42,
   "metadata": {
    "colab": {
     "base_uri": "https://localhost:8080/",
     "height": 452
    },
    "executionInfo": {
     "elapsed": 821,
     "status": "ok",
     "timestamp": 1739532287338,
     "user": {
      "displayName": "Javid Shiriyev",
      "userId": "04377657040188470328"
     },
     "user_tz": -240
    },
    "id": "cLA4Xv7YM4Lw",
    "outputId": "6d5e3667-8b11-4b6a-e5d4-1dab5ba52510"
   },
   "outputs": [
    {
     "data": {
      "image/png": "[encoded data removed]",
      "text/plain": [
       "<Figure size 640x480 with 1 Axes>"
      ]
     },
     "metadata": {},
     "output_type": "display_data"
    }
   ],
   "source": [
    "plt.spy(T); plt.show()"
   ]
  },
  {
   "cell_type": "code",
   "execution_count": 43,
   "metadata": {
    "id": "qpkxXzTaNlgG"
   },
   "outputs": [
    {
     "data": {
      "text/plain": [
       "array([[ 337500.0324    ,       0.        ,       0.        ,\n",
       "              0.        ,       0.        ,       0.        ,\n",
       "              0.        ,       0.        ,       0.        ],\n",
       "       [      0.        ,  540000.05184   ,       0.        ,\n",
       "              0.        ,       0.        ,       0.        ,\n",
       "              0.        ,       0.        ,       0.        ],\n",
       "       [      0.        ,       0.        ,  750000.072     ,\n",
       "              0.        ,       0.        ,       0.        ,\n",
       "              0.        ,       0.        ,       0.        ],\n",
       "       [      0.        ,       0.        ,       0.        ,\n",
       "         510000.04896   ,       0.        ,       0.        ,\n",
       "              0.        ,       0.        ,       0.        ],\n",
       "       [      0.        ,       0.        ,       0.        ,\n",
       "              0.        ,  800000.0768    ,       0.        ,\n",
       "              0.        ,       0.        ,       0.        ],\n",
       "       [      0.        ,       0.        ,       0.        ,\n",
       "              0.        ,       0.        , 1100000.1056    ,\n",
       "              0.        ,       0.        ,       0.        ],\n",
       "       [      0.        ,       0.        ,       0.        ,\n",
       "              0.        ,       0.        ,       0.        ,\n",
       "         825000.0792    ,       0.        ,       0.        ],\n",
       "       [      0.        ,       0.        ,       0.        ,\n",
       "              0.        ,       0.        ,       0.        ,\n",
       "              0.        , 1250000.12      ,       0.        ],\n",
       "       [      0.        ,       0.        ,       0.        ,\n",
       "              0.        ,       0.        ,       0.        ,\n",
       "              0.        ,       0.        , 1625000.15600001]])"
      ]
     },
     "execution_count": 43,
     "metadata": {},
     "output_type": "execute_result"
    }
   ],
   "source": [
    "A = build.A(block.accumulation); A"
   ]
  },
  {
   "cell_type": "code",
   "execution_count": 44,
   "metadata": {},
   "outputs": [
    {
     "data": {
      "image/png": "[encoded data removed]",
      "text/plain": [
       "<Figure size 640x480 with 1 Axes>"
      ]
     },
     "metadata": {},
     "output_type": "display_data"
    }
   ],
   "source": [
    "plt.spy(A); plt.show()"
   ]
  },
  {
   "cell_type": "markdown",
   "metadata": {},
   "source": [
    "## Post-Processing: Visualization\n",
    "Once the simulation is complete, results are processed and visualized for interpretation:\n",
    "- Generating pressure, saturation, and production rate plots\n",
    "- Creating well performance summaries (BHP, oil/gas/water production rates)\n",
    "- Producing field-scale 2D/3D visualizations for analysis\n",
    "- Exporting results for further interpretation and reporting"
   ]
  },
  {
   "cell_type": "code",
   "execution_count": null,
   "metadata": {},
   "outputs": [],
   "source": []
  }
 ],
 "metadata": {
  "colab": {
   "authorship_tag": "ABX9TyPpZ2UsxHPcD5Wu4UXQMMmu",
   "provenance": []
  },
  "kernelspec": {
   "display_name": "Python 3 (ipykernel)",
   "language": "python",
   "name": "python3"
  },
  "language_info": {
   "codemirror_mode": {
    "name": "ipython",
    "version": 3
   },
   "file_extension": ".py",
   "mimetype": "text/x-python",
   "name": "python",
   "nbconvert_exporter": "python",
   "pygments_lexer": "ipython3",
   "version": "3.12.3"
  }
 },
 "nbformat": 4,
 "nbformat_minor": 4
}
