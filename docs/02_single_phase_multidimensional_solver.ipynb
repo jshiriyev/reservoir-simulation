{
 "cells": [
  {
   "cell_type": "code",
   "execution_count": 1,
   "metadata": {},
   "outputs": [],
   "source": [
    "import matplotlib.pyplot as plt"
   ]
  },
  {
   "cell_type": "code",
   "execution_count": 2,
   "metadata": {
    "executionInfo": {
     "elapsed": 327,
     "status": "ok",
     "timestamp": 1739529070832,
     "user": {
      "displayName": "Javid Shiriyev",
      "userId": "04377657040188470328"
     },
     "user_tz": -240
    },
    "id": "5vRIadbjAxqE"
   },
   "outputs": [],
   "source": [
    "import numpy as np"
   ]
  },
  {
   "cell_type": "code",
   "execution_count": 3,
   "metadata": {},
   "outputs": [],
   "source": [
    "import respy"
   ]
  },
  {
   "cell_type": "markdown",
   "metadata": {},
   "source": [
    "# Problem Statement\n",
    "\n",
    "A heterogeneous 2D reservoir (L=3000 ft, W=3000 ft, H=20 ft) is saturated with oil at residual water saturation. The endpoint relative permeability and viscosity are constant and are 1.0 and 5 cp, respectively. Formation volume factor of oil is uniform throughout the reservoir. The total compressibility is 1E-5 psi.\n",
    "\n",
    "The reservoir is discretized into $N_x=3$, $N_y=3$, $N_z=1$ nonuniform grids, ${\\Delta}x=[750, 1000, 1250]$ ft and ${\\Delta}y=[750, 1000, 1250]$ ft.\n",
    "\n",
    "The permeability is anisotropic, $k_y=k_x\\times0.5$, $k_z=k_x\\times0.1$ and both x-direction permeability and porosity are heterogeneous as given below. \n",
    "\n",
    "$k_x=[50, 100, 200, 100, 150, 250, 150, 200, 300]$ mD\n",
    "\n",
    "The depth is uniform, and the porosity distribution is given as following:\n",
    "\n",
    "$\\phi=[0.15, 0.18, 0.20, 0.17, 0.20, 0.22, 0.22, 0.25, 0.26]$\n",
    "\n",
    "Create the arrays and solve the pressure field implicitly for three timesteps. The initial condition is $P=3000$ psia.\n",
    "\n",
    "Assume no-flow conditions on all boundaries. There is a constant BHP vertical well in block #1 (index 0) ($P_{wf}=4000$ psia) and constant BHP horizontal well perforated in blocks #8 and #9 (index 7 and 8) ($P_{wf}$=2000 psia). The wellbore radius is 0.25 ft."
   ]
  },
  {
   "cell_type": "markdown",
   "metadata": {},
   "source": [
    "**Ref**: Balhoff, Reservoir Simulation, Chaptear 5, Example 5.4"
   ]
  },
  {
   "cell_type": "markdown",
   "metadata": {},
   "source": [
    "# Single Phase Linear Solver"
   ]
  },
  {
   "cell_type": "markdown",
   "metadata": {},
   "source": [
    "**1. Input Data**"
   ]
  },
  {
   "cell_type": "markdown",
   "metadata": {},
   "source": [
    "Grid Properties:"
   ]
  },
  {
   "cell_type": "code",
   "execution_count": 4,
   "metadata": {},
   "outputs": [],
   "source": [
    "xdelta = np.array([750,1000,1250])\n",
    "ydelta = np.array([750,1000,1250])\n",
    "zdelta = 20"
   ]
  },
  {
   "cell_type": "markdown",
   "metadata": {},
   "source": [
    "Reservoir Rock Properties:"
   ]
  },
  {
   "cell_type": "code",
   "execution_count": 5,
   "metadata": {},
   "outputs": [],
   "source": [
    "xperm = np.array([50,100,200,100,150,250,150,200,300])\n",
    "yperm = xperm/2\n",
    "zperm = xperm/10"
   ]
  },
  {
   "cell_type": "code",
   "execution_count": 6,
   "metadata": {},
   "outputs": [],
   "source": [
    "poro = np.array([0.15,0.18,0.20,0.17,0.20,0.22,0.22,0.25,0.26])"
   ]
  },
  {
   "cell_type": "markdown",
   "metadata": {},
   "source": [
    "Fluid Properties"
   ]
  },
  {
   "cell_type": "code",
   "execution_count": 7,
   "metadata": {},
   "outputs": [],
   "source": [
    "visc = 5"
   ]
  },
  {
   "cell_type": "markdown",
   "metadata": {},
   "source": [
    "**2. Gridding**"
   ]
  },
  {
   "cell_type": "code",
   "execution_count": 8,
   "metadata": {},
   "outputs": [],
   "source": [
    "delta = respy.GridDelta(xdelta,ydelta,20)"
   ]
  },
  {
   "cell_type": "code",
   "execution_count": 9,
   "metadata": {},
   "outputs": [
    {
     "data": {
      "text/plain": [
       "array([ 750., 1000., 1250.])"
      ]
     },
     "execution_count": 9,
     "metadata": {},
     "output_type": "execute_result"
    }
   ],
   "source": [
    "delta.xdelta"
   ]
  },
  {
   "cell_type": "code",
   "execution_count": 10,
   "metadata": {},
   "outputs": [
    {
     "data": {
      "text/plain": [
       "array([ 750., 1000., 1250.])"
      ]
     },
     "execution_count": 10,
     "metadata": {},
     "output_type": "execute_result"
    }
   ],
   "source": [
    "delta.ydelta"
   ]
  },
  {
   "cell_type": "code",
   "execution_count": 11,
   "metadata": {},
   "outputs": [
    {
     "data": {
      "text/plain": [
       "array([1000.])"
      ]
     },
     "execution_count": 11,
     "metadata": {},
     "output_type": "execute_result"
    }
   ],
   "source": [
    "delta.depths"
   ]
  },
  {
   "cell_type": "code",
   "execution_count": 12,
   "metadata": {},
   "outputs": [
    {
     "data": {
      "text/plain": [
       "2"
      ]
     },
     "execution_count": 12,
     "metadata": {},
     "output_type": "execute_result"
    }
   ],
   "source": [
    "delta.dims"
   ]
  },
  {
   "cell_type": "code",
   "execution_count": 13,
   "metadata": {},
   "outputs": [
    {
     "data": {
      "text/plain": [
       "2"
      ]
     },
     "execution_count": 13,
     "metadata": {},
     "output_type": "execute_result"
    }
   ],
   "source": [
    "delta.grids.dims"
   ]
  },
  {
   "cell_type": "code",
   "execution_count": 14,
   "metadata": {},
   "outputs": [
    {
     "data": {
      "text/plain": [
       "array([11250010.60135316, 15000014.13513754, 18750017.66892192,\n",
       "       15000014.13513754, 20000018.84685005, 25000023.55856256,\n",
       "       18750017.66892192, 25000023.55856256, 31250029.4482032 ])"
      ]
     },
     "execution_count": 14,
     "metadata": {},
     "output_type": "execute_result"
    }
   ],
   "source": [
    "delta.grids.volume"
   ]
  },
  {
   "cell_type": "code",
   "execution_count": 15,
   "metadata": {},
   "outputs": [
    {
     "data": {
      "text/plain": [
       "array([0, 1, 2, 3, 4, 5, 6, 7, 8])"
      ]
     },
     "execution_count": 15,
     "metadata": {},
     "output_type": "execute_result"
    }
   ],
   "source": [
    "delta.index"
   ]
  },
  {
   "cell_type": "code",
   "execution_count": 16,
   "metadata": {},
   "outputs": [
    {
     "data": {
      "text/plain": [
       "array([[0, 1, 0, 3],\n",
       "       [0, 2, 1, 4],\n",
       "       [1, 2, 2, 5],\n",
       "       [3, 4, 0, 6],\n",
       "       [3, 5, 1, 7],\n",
       "       [4, 5, 2, 8],\n",
       "       [6, 7, 3, 6],\n",
       "       [6, 8, 4, 7],\n",
       "       [7, 8, 5, 8]])"
      ]
     },
     "execution_count": 16,
     "metadata": {},
     "output_type": "execute_result"
    }
   ],
   "source": [
    "delta.table"
   ]
  },
  {
   "cell_type": "markdown",
   "metadata": {},
   "source": [
    "**3. Property Calculation**"
   ]
  },
  {
   "cell_type": "code",
   "execution_count": 17,
   "metadata": {},
   "outputs": [],
   "source": [
    "rock = respy.RRock(xperm,yperm=yperm,zperm=zperm,poro=poro)"
   ]
  },
  {
   "cell_type": "code",
   "execution_count": 18,
   "metadata": {},
   "outputs": [
    {
     "data": {
      "text/plain": [
       "array([ 50., 100., 200., 100., 150., 250., 150., 200., 300.])"
      ]
     },
     "execution_count": 18,
     "metadata": {},
     "output_type": "execute_result"
    }
   ],
   "source": [
    "rock.xperm"
   ]
  },
  {
   "cell_type": "code",
   "execution_count": 19,
   "metadata": {},
   "outputs": [
    {
     "data": {
      "text/plain": [
       "array([ 25.,  50., 100.,  50.,  75., 125.,  75., 100., 150.])"
      ]
     },
     "execution_count": 19,
     "metadata": {},
     "output_type": "execute_result"
    }
   ],
   "source": [
    "rock.yperm"
   ]
  },
  {
   "cell_type": "code",
   "execution_count": 20,
   "metadata": {},
   "outputs": [
    {
     "data": {
      "text/plain": [
       "array([0.15, 0.18, 0.2 , 0.17, 0.2 , 0.22, 0.22, 0.25, 0.26])"
      ]
     },
     "execution_count": 20,
     "metadata": {},
     "output_type": "execute_result"
    }
   ],
   "source": [
    "rock.poro"
   ]
  },
  {
   "cell_type": "code",
   "execution_count": 21,
   "metadata": {},
   "outputs": [],
   "source": [
    "oil = respy.Fluid(visc=visc)"
   ]
  },
  {
   "cell_type": "code",
   "execution_count": 22,
   "metadata": {},
   "outputs": [
    {
     "data": {
      "text/plain": [
       "array([5.])"
      ]
     },
     "execution_count": 22,
     "metadata": {},
     "output_type": "execute_result"
    }
   ],
   "source": [
    "oil.visc"
   ]
  },
  {
   "cell_type": "markdown",
   "metadata": {},
   "source": [
    "**4. Configuration**"
   ]
  },
  {
   "cell_type": "code",
   "execution_count": 23,
   "metadata": {},
   "outputs": [],
   "source": [
    "time = respy.Time((1,)*5)"
   ]
  },
  {
   "cell_type": "code",
   "execution_count": 24,
   "metadata": {},
   "outputs": [
    {
     "data": {
      "text/plain": [
       "np.float64(5.0)"
      ]
     },
     "execution_count": 24,
     "metadata": {},
     "output_type": "execute_result"
    }
   ],
   "source": [
    "time.total"
   ]
  },
  {
   "cell_type": "code",
   "execution_count": 25,
   "metadata": {},
   "outputs": [
    {
     "data": {
      "text/plain": [
       "array([1., 1., 1., 1., 1.])"
      ]
     },
     "execution_count": 25,
     "metadata": {},
     "output_type": "execute_result"
    }
   ],
   "source": [
    "time.steps"
   ]
  },
  {
   "cell_type": "code",
   "execution_count": 26,
   "metadata": {},
   "outputs": [
    {
     "data": {
      "text/plain": [
       "5"
      ]
     },
     "execution_count": 26,
     "metadata": {},
     "output_type": "execute_result"
    }
   ],
   "source": [
    "time.nums"
   ]
  },
  {
   "cell_type": "code",
   "execution_count": 27,
   "metadata": {},
   "outputs": [
    {
     "name": "stdout",
     "output_type": "stream",
     "text": [
      "0.0 86400.0\n",
      "86400.0 86400.0\n",
      "172800.0 86400.0\n",
      "259200.0 86400.0\n",
      "345600.0 86400.0\n"
     ]
    }
   ],
   "source": [
    "for tcurr,tstep in time:\n",
    "    print(tcurr,tstep)"
   ]
  },
  {
   "cell_type": "code",
   "execution_count": 28,
   "metadata": {},
   "outputs": [],
   "source": [
    "w1 = respy.Well((0,),axis='z',radius=0.25,skin=2,press=4000)\n",
    "w2 = respy.Well((7,8),axis='x',radius=0.25,skin=0,press=2000)"
   ]
  },
  {
   "cell_type": "code",
   "execution_count": 29,
   "metadata": {},
   "outputs": [
    {
     "data": {
      "text/plain": [
       "(7, 8)"
      ]
     },
     "execution_count": 29,
     "metadata": {},
     "output_type": "execute_result"
    }
   ],
   "source": [
    "w2.index"
   ]
  },
  {
   "cell_type": "markdown",
   "metadata": {},
   "source": [
    "**5. Simulation**"
   ]
  },
  {
   "cell_type": "code",
   "execution_count": 30,
   "metadata": {},
   "outputs": [],
   "source": [
    "solver = respy.BaseSolver(delta.grids,rock,oil,tcomp=1e-5)"
   ]
  },
  {
   "cell_type": "code",
   "execution_count": 59,
   "metadata": {},
   "outputs": [],
   "source": [
    "vec = solver.vector(5*24*60*60,wells=(w1,w2))\n",
    "mat = solver.matrix(vec)"
   ]
  },
  {
   "cell_type": "code",
   "execution_count": 60,
   "metadata": {},
   "outputs": [
    {
     "data": {
      "text/plain": [
       "array([1.51878975, 2.33659961, 3.57362293, 4.33939927, 6.32829061,\n",
       "       6.90358975])"
      ]
     },
     "execution_count": 60,
     "metadata": {},
     "output_type": "execute_result"
    }
   ],
   "source": [
    "vec.X"
   ]
  },
  {
   "cell_type": "code",
   "execution_count": 61,
   "metadata": {},
   "outputs": [
    {
     "data": {
      "text/plain": [
       "array([0.75939487, 1.78681147, 4.08276813, 1.03553846, 1.9597287 ,\n",
       "       3.87446364])"
      ]
     },
     "execution_count": 61,
     "metadata": {},
     "output_type": "execute_result"
    }
   ],
   "source": [
    "vec.Y"
   ]
  },
  {
   "cell_type": "code",
   "execution_count": 62,
   "metadata": {},
   "outputs": [
    {
     "data": {
      "text/plain": [
       "array([], dtype=float64)"
      ]
     },
     "execution_count": 62,
     "metadata": {},
     "output_type": "execute_result"
    }
   ],
   "source": [
    "vec.Z"
   ]
  },
  {
   "cell_type": "code",
   "execution_count": 63,
   "metadata": {},
   "outputs": [
    {
     "data": {
      "text/plain": [
       "array([ 337500.0324 ,  540000.05184,  750000.072  ,  510000.04896,\n",
       "        800000.0768 , 1100000.1056 ,  825000.0792 , 1250000.12   ,\n",
       "       1625000.156  ])"
      ]
     },
     "execution_count": 63,
     "metadata": {},
     "output_type": "execute_result"
    }
   ],
   "source": [
    "vec.A/1e-5"
   ]
  },
  {
   "cell_type": "code",
   "execution_count": 65,
   "metadata": {},
   "outputs": [
    {
     "data": {
      "text/plain": [
       "matrix([[ 337500.0324 ,       0.     ,       0.     ,       0.     ,\n",
       "               0.     ,       0.     ,       0.     ,       0.     ,\n",
       "               0.     ],\n",
       "        [      0.     ,  540000.05184,       0.     ,       0.     ,\n",
       "               0.     ,       0.     ,       0.     ,       0.     ,\n",
       "               0.     ],\n",
       "        [      0.     ,       0.     ,  750000.072  ,       0.     ,\n",
       "               0.     ,       0.     ,       0.     ,       0.     ,\n",
       "               0.     ],\n",
       "        [      0.     ,       0.     ,       0.     ,  510000.04896,\n",
       "               0.     ,       0.     ,       0.     ,       0.     ,\n",
       "               0.     ],\n",
       "        [      0.     ,       0.     ,       0.     ,       0.     ,\n",
       "          800000.0768 ,       0.     ,       0.     ,       0.     ,\n",
       "               0.     ],\n",
       "        [      0.     ,       0.     ,       0.     ,       0.     ,\n",
       "               0.     , 1100000.1056 ,       0.     ,       0.     ,\n",
       "               0.     ],\n",
       "        [      0.     ,       0.     ,       0.     ,       0.     ,\n",
       "               0.     ,       0.     ,  825000.0792 ,       0.     ,\n",
       "               0.     ],\n",
       "        [      0.     ,       0.     ,       0.     ,       0.     ,\n",
       "               0.     ,       0.     ,       0.     , 1250000.12   ,\n",
       "               0.     ],\n",
       "        [      0.     ,       0.     ,       0.     ,       0.     ,\n",
       "               0.     ,       0.     ,       0.     ,       0.     ,\n",
       "         1625000.156  ]])"
      ]
     },
     "execution_count": 65,
     "metadata": {},
     "output_type": "execute_result"
    }
   ],
   "source": [
    "mat.A.todense()/1e-5"
   ]
  },
  {
   "cell_type": "code",
   "execution_count": 66,
   "metadata": {},
   "outputs": [
    {
     "data": {
      "image/png": "[encoded data removed]",
      "text/plain": [
       "<Figure size 640x480 with 1 Axes>"
      ]
     },
     "metadata": {},
     "output_type": "display_data"
    }
   ],
   "source": [
    "plt.spy(mat.A); plt.show()"
   ]
  },
  {
   "cell_type": "code",
   "execution_count": 67,
   "metadata": {},
   "outputs": [
    {
     "data": {
      "text/plain": [
       "matrix([[ 2.27818462, -1.51878975,  0.        , -0.75939487,  0.        ,\n",
       "          0.        ,  0.        ,  0.        ,  0.        ],\n",
       "        [-1.51878975,  5.64220082, -2.33659961,  0.        , -1.78681147,\n",
       "          0.        ,  0.        ,  0.        ,  0.        ],\n",
       "        [ 0.        , -2.33659961,  6.41936774,  0.        ,  0.        ,\n",
       "         -4.08276813,  0.        ,  0.        ,  0.        ],\n",
       "        [-0.75939487,  0.        ,  0.        ,  5.36855627, -3.57362293,\n",
       "          0.        , -1.03553846,  0.        ,  0.        ],\n",
       "        [ 0.        , -1.78681147,  0.        , -3.57362293, 11.65956237,\n",
       "         -4.33939927,  0.        , -1.9597287 ,  0.        ],\n",
       "        [ 0.        ,  0.        , -4.08276813,  0.        , -4.33939927,\n",
       "         12.29663104,  0.        ,  0.        , -3.87446364],\n",
       "        [ 0.        ,  0.        ,  0.        , -1.03553846,  0.        ,\n",
       "          0.        ,  7.36382907, -6.32829061,  0.        ],\n",
       "        [ 0.        ,  0.        ,  0.        ,  0.        , -1.9597287 ,\n",
       "          0.        , -6.32829061, 15.19160906, -6.90358975],\n",
       "        [ 0.        ,  0.        ,  0.        ,  0.        ,  0.        ,\n",
       "         -3.87446364,  0.        , -6.90358975, 10.77805339]])"
      ]
     },
     "execution_count": 67,
     "metadata": {},
     "output_type": "execute_result"
    }
   ],
   "source": [
    "mat.T.todense()"
   ]
  },
  {
   "cell_type": "code",
   "execution_count": 68,
   "metadata": {},
   "outputs": [
    {
     "data": {
      "image/png": "[encoded data removed]",
      "text/plain": [
       "<Figure size 640x480 with 1 Axes>"
      ]
     },
     "metadata": {},
     "output_type": "display_data"
    }
   ],
   "source": [
    "plt.spy(mat.T); plt.show()"
   ]
  },
  {
   "cell_type": "code",
   "execution_count": 69,
   "metadata": {},
   "outputs": [
    {
     "data": {
      "text/plain": [
       "[array([0.66931877]), array([ 58.5849729 , 109.84682418])]"
      ]
     },
     "execution_count": 69,
     "metadata": {},
     "output_type": "execute_result"
    }
   ],
   "source": [
    "vec.W"
   ]
  },
  {
   "cell_type": "code",
   "execution_count": 70,
   "metadata": {},
   "outputs": [
    {
     "data": {
      "text/plain": [
       "matrix([[  0.66931877,   0.        ,   0.        ,   0.        ,\n",
       "           0.        ,   0.        ,   0.        ,   0.        ,\n",
       "           0.        ],\n",
       "        [  0.        ,   0.        ,   0.        ,   0.        ,\n",
       "           0.        ,   0.        ,   0.        ,   0.        ,\n",
       "           0.        ],\n",
       "        [  0.        ,   0.        ,   0.        ,   0.        ,\n",
       "           0.        ,   0.        ,   0.        ,   0.        ,\n",
       "           0.        ],\n",
       "        [  0.        ,   0.        ,   0.        ,   0.        ,\n",
       "           0.        ,   0.        ,   0.        ,   0.        ,\n",
       "           0.        ],\n",
       "        [  0.        ,   0.        ,   0.        ,   0.        ,\n",
       "           0.        ,   0.        ,   0.        ,   0.        ,\n",
       "           0.        ],\n",
       "        [  0.        ,   0.        ,   0.        ,   0.        ,\n",
       "           0.        ,   0.        ,   0.        ,   0.        ,\n",
       "           0.        ],\n",
       "        [  0.        ,   0.        ,   0.        ,   0.        ,\n",
       "           0.        ,   0.        ,   0.        ,   0.        ,\n",
       "           0.        ],\n",
       "        [  0.        ,   0.        ,   0.        ,   0.        ,\n",
       "           0.        ,   0.        ,   0.        ,  58.5849729 ,\n",
       "           0.        ],\n",
       "        [  0.        ,   0.        ,   0.        ,   0.        ,\n",
       "           0.        ,   0.        ,   0.        ,   0.        ,\n",
       "         109.84682418]])"
      ]
     },
     "execution_count": 70,
     "metadata": {},
     "output_type": "execute_result"
    }
   ],
   "source": [
    "mat.J.todense()"
   ]
  },
  {
   "cell_type": "code",
   "execution_count": 71,
   "metadata": {},
   "outputs": [
    {
     "data": {
      "image/png": "[encoded data removed]",
      "text/plain": [
       "<Figure size 640x480 with 1 Axes>"
      ]
     },
     "metadata": {},
     "output_type": "display_data"
    }
   ],
   "source": [
    "plt.spy(mat.J); plt.show()"
   ]
  },
  {
   "cell_type": "code",
   "execution_count": 72,
   "metadata": {},
   "outputs": [
    {
     "data": {
      "text/plain": [
       "matrix([[  2677.27509522],\n",
       "        [     0.        ],\n",
       "        [     0.        ],\n",
       "        [     0.        ],\n",
       "        [     0.        ],\n",
       "        [     0.        ],\n",
       "        [     0.        ],\n",
       "        [117169.94579205],\n",
       "        [219693.64836009]])"
      ]
     },
     "execution_count": 72,
     "metadata": {},
     "output_type": "execute_result"
    }
   ],
   "source": [
    "mat.Q.todense()"
   ]
  },
  {
   "cell_type": "code",
   "execution_count": 73,
   "metadata": {},
   "outputs": [
    {
     "data": {
      "image/png": "[encoded data removed]",
      "text/plain": [
       "<Figure size 640x480 with 1 Axes>"
      ]
     },
     "metadata": {},
     "output_type": "display_data"
    }
   ],
   "source": [
    "plt.spy(mat.Q); plt.show()"
   ]
  },
  {
   "cell_type": "code",
   "execution_count": 74,
   "metadata": {},
   "outputs": [
    {
     "data": {
      "text/plain": [
       "array([[-1.24053904e-13],\n",
       "       [ 0.00000000e+00],\n",
       "       [ 0.00000000e+00],\n",
       "       [-2.48107809e-13],\n",
       "       [ 0.00000000e+00],\n",
       "       [-6.61620823e-13],\n",
       "       [ 3.30810411e-13],\n",
       "       [ 0.00000000e+00],\n",
       "       [-6.61620823e-13]])"
      ]
     },
     "execution_count": 74,
     "metadata": {},
     "output_type": "execute_result"
    }
   ],
   "source": [
    "mat.G"
   ]
  },
  {
   "cell_type": "code",
   "execution_count": 85,
   "metadata": {},
   "outputs": [
    {
     "name": "stdout",
     "output_type": "stream",
     "text": [
      "[3092.81155628 2980.20368017 2945.48368508 2930.93064138 2870.06273822\n",
      " 2825.46728636 2682.10708308 2226.96313333 2153.53514859]\n",
      "[3121.13116832 2939.20923215 2869.25958579 2836.21544712 2752.15709938\n",
      " 2689.20402253 2450.89104793 2086.40862243 2042.09517513]\n",
      "[3112.21999452 2885.83576177 2790.23639643 2742.90885209 2657.12143613\n",
      " 2590.3594036  2308.5987731  2052.02772213 2024.33281237]\n",
      "[3083.60861049 2827.65829672 2715.95004612 2660.65779632 2580.35990665\n",
      " 2515.55533626 2222.51595911 2038.59646478 2019.42915177]\n",
      "[3046.04528763 2769.64147597 2648.80311534 2591.10838606 2517.38247745\n",
      " 2456.29820939 2169.38558674 2031.11194414 2016.79211466]\n"
     ]
    }
   ],
   "source": [
    "press = np.full(9,3000)*6894.76\n",
    "\n",
    "for tcurr,tstep in time:\n",
    "    press = solver.method.implicit(mat,press.reshape((-1,1)))\n",
    "    print(press/6894.76)"
   ]
  },
  {
   "cell_type": "code",
   "execution_count": 86,
   "metadata": {},
   "outputs": [
    {
     "name": "stdout",
     "output_type": "stream",
     "text": [
      "[2662.63127696 2303.35428039 2184.63306044 2202.4493765  2153.2196594\n",
      " 2116.68799302 2034.87343795 2007.45192073 2004.17449866]\n"
     ]
    }
   ],
   "source": [
    "press = np.full(9,3000)*6894.76\n",
    "\n",
    "for _ in range(1000):\n",
    "    press = solver.method.implicit(mat,press.reshape((-1,1)))\n",
    "\n",
    "print(press/6894.76)"
   ]
  },
  {
   "cell_type": "markdown",
   "metadata": {},
   "source": [
    "6. Post-Processing"
   ]
  },
  {
   "cell_type": "code",
   "execution_count": null,
   "metadata": {},
   "outputs": [],
   "source": []
  }
 ],
 "metadata": {
  "colab": {
   "authorship_tag": "ABX9TyPpZ2UsxHPcD5Wu4UXQMMmu",
   "provenance": []
  },
  "kernelspec": {
   "display_name": "Python 3 (ipykernel)",
   "language": "python",
   "name": "python3"
  },
  "language_info": {
   "codemirror_mode": {
    "name": "ipython",
    "version": 3
   },
   "file_extension": ".py",
   "mimetype": "text/x-python",
   "name": "python",
   "nbconvert_exporter": "python",
   "pygments_lexer": "ipython3",
   "version": "3.12.3"
  }
 },
 "nbformat": 4,
 "nbformat_minor": 4
}
