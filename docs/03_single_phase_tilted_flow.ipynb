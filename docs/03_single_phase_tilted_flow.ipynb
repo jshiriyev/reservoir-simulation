{
 "cells": [
  {
   "cell_type": "code",
   "execution_count": 2,
   "id": "4ec2d808-b9bd-45db-86ca-18379df36e06",
   "metadata": {},
   "outputs": [],
   "source": [
    "import numpy as np"
   ]
  },
  {
   "cell_type": "code",
   "execution_count": 3,
   "id": "bf80b24b-177e-4f23-b4fc-6712ee582faa",
   "metadata": {},
   "outputs": [],
   "source": [
    "import sys\n",
    "sys.path.append(r'C:\\Users\\javid.shiriyev\\Documents\\respy')"
   ]
  },
  {
   "cell_type": "code",
   "execution_count": 4,
   "id": "7c7410a5-1714-46c9-9102-3310a6795c6c",
   "metadata": {},
   "outputs": [],
   "source": [
    "from _grids import RecCuboid\n",
    "from _fluid import Fluid"
   ]
  },
  {
   "cell_type": "code",
   "execution_count": 5,
   "id": "035b0517-d932-4e80-96b4-7bf3250f6fdc",
   "metadata": {},
   "outputs": [],
   "source": [
    "from _solver import BoundCond\n",
    "from _solver import Matrix\n",
    "from _solver import OnePhase"
   ]
  },
  {
   "cell_type": "code",
   "execution_count": 6,
   "id": "369bbb74-92c1-4b38-8872-f84b4d9e9b2a",
   "metadata": {},
   "outputs": [],
   "source": [
    "grid = RecCuboid(dims=(4000,100,100),num=(4,1,1))"
   ]
  },
  {
   "cell_type": "code",
   "execution_count": 7,
   "id": "ad342f55-622d-4472-ae87-5ba575fbb86a",
   "metadata": {},
   "outputs": [],
   "source": [
    "grid.set_depth([2059,1559,1059,559])\n",
    "grid.set_poro(0.25)\n",
    "grid.set_perm(15)"
   ]
  },
  {
   "cell_type": "code",
   "execution_count": 8,
   "id": "8854594e-c1a2-42e6-b9a1-8dfe6c223f4d",
   "metadata": {},
   "outputs": [
    {
     "data": {
      "text/plain": [
       "array([[2059.],\n",
       "       [1559.],\n",
       "       [1059.],\n",
       "       [ 559.]])"
      ]
     },
     "execution_count": 8,
     "metadata": {},
     "output_type": "execute_result"
    }
   ],
   "source": [
    "grid.depth"
   ]
  },
  {
   "cell_type": "code",
   "execution_count": 9,
   "id": "2c611cc7-b62e-4a25-947c-64de742a24cf",
   "metadata": {},
   "outputs": [
    {
     "data": {
      "text/plain": [
       "array([[15.],\n",
       "       [15.],\n",
       "       [15.],\n",
       "       [15.]])"
      ]
     },
     "execution_count": 9,
     "metadata": {},
     "output_type": "execute_result"
    }
   ],
   "source": [
    "grid.xperm"
   ]
  },
  {
   "cell_type": "code",
   "execution_count": 10,
   "id": "3008e794-4394-463c-a809-1653e32ad7c0",
   "metadata": {},
   "outputs": [
    {
     "data": {
      "text/plain": [
       "array([[0.25],\n",
       "       [0.25],\n",
       "       [0.25],\n",
       "       [0.25]])"
      ]
     },
     "execution_count": 10,
     "metadata": {},
     "output_type": "execute_result"
    }
   ],
   "source": [
    "grid.poro"
   ]
  },
  {
   "cell_type": "code",
   "execution_count": 11,
   "id": "b81b33b8-9000-4cc7-9f16-552febe3d02d",
   "metadata": {},
   "outputs": [],
   "source": [
    "water = Fluid(density=62.4,viscosity=1)"
   ]
  },
  {
   "cell_type": "code",
   "execution_count": 12,
   "id": "f08acfca-38ab-4468-9a61-6b4732fdc145",
   "metadata": {},
   "outputs": [
    {
     "data": {
      "text/plain": [
       "1"
      ]
     },
     "execution_count": 12,
     "metadata": {},
     "output_type": "execute_result"
    }
   ],
   "source": [
    "water.viscosity"
   ]
  },
  {
   "cell_type": "code",
   "execution_count": 13,
   "id": "5254554d-1c16-4af5-98d3-1d0d6e582810",
   "metadata": {},
   "outputs": [],
   "source": [
    "bcond = BoundCond('xmax',press=500)"
   ]
  },
  {
   "cell_type": "code",
   "execution_count": 14,
   "id": "3f2b45b1-7771-4e20-9131-83a08c77e104",
   "metadata": {},
   "outputs": [],
   "source": [
    "sol = OnePhase(grid,water,bconds=(bcond,))"
   ]
  },
  {
   "cell_type": "code",
   "execution_count": 15,
   "id": "8c54aa6e-b2d8-4e57-ad0e-e81289c59aa7",
   "metadata": {},
   "outputs": [],
   "source": [
    "sol.set_time(1,nstep=50)"
   ]
  },
  {
   "cell_type": "code",
   "execution_count": 16,
   "id": "bd8bbb2c-4e29-41bd-8381-9ea4c87ff9e3",
   "metadata": {},
   "outputs": [],
   "source": [
    "sol.initialize(2309,1000,1e-5)"
   ]
  },
  {
   "cell_type": "code",
   "execution_count": 17,
   "id": "c1558518-fe2b-4a64-ba3c-b7fa7e5996ba",
   "metadata": {},
   "outputs": [],
   "source": [
    "tmatrix = sol.Tmatrix()"
   ]
  },
  {
   "cell_type": "code",
   "execution_count": 18,
   "id": "18b786a4-f2de-471f-bf87-abdf08ebd33a",
   "metadata": {},
   "outputs": [
    {
     "data": {
      "text/plain": [
       "matrix([[ 0.94924359, -0.94924359,  0.        ,  0.        ],\n",
       "        [-0.94924359,  1.89848718, -0.94924359,  0.        ],\n",
       "        [ 0.        , -0.94924359,  1.89848718, -0.94924359],\n",
       "        [ 0.        ,  0.        , -0.94924359,  0.94924359]])"
      ]
     },
     "execution_count": 18,
     "metadata": {},
     "output_type": "execute_result"
    }
   ],
   "source": [
    "tmatrix.todense()*sol.trans2field"
   ]
  },
  {
   "cell_type": "code",
   "execution_count": 19,
   "id": "2d819504-b7ba-475b-841a-aa4cf5e8981e",
   "metadata": {},
   "outputs": [
    {
     "data": {
      "text/plain": [
       "matrix([[25.0000024,  0.       ,  0.       ,  0.       ],\n",
       "        [ 0.       , 25.0000024,  0.       ,  0.       ],\n",
       "        [ 0.       ,  0.       , 25.0000024,  0.       ],\n",
       "        [ 0.       ,  0.       ,  0.       , 25.0000024]])"
      ]
     },
     "execution_count": 19,
     "metadata": {},
     "output_type": "execute_result"
    }
   ],
   "source": [
    "sol.Amatrix().todense()*sol.trans2field"
   ]
  },
  {
   "cell_type": "code",
   "execution_count": 20,
   "id": "24549eac-cb3a-4848-a612-a2d6e2ad7bbb",
   "metadata": {},
   "outputs": [
    {
     "data": {
      "text/plain": [
       "matrix([[0.        , 0.        , 0.        , 0.        ],\n",
       "        [0.        , 0.        , 0.        , 0.        ],\n",
       "        [0.        , 0.        , 0.        , 0.        ],\n",
       "        [0.        , 0.        , 0.        , 1.89848718]])"
      ]
     },
     "execution_count": 20,
     "metadata": {},
     "output_type": "execute_result"
    }
   ],
   "source": [
    "sol.Jmatrix().todense()*sol.trans2field"
   ]
  },
  {
   "cell_type": "code",
   "execution_count": 21,
   "id": "b55224f9-4569-412f-9503-814f973c0493",
   "metadata": {},
   "outputs": [
    {
     "data": {
      "text/plain": [
       "matrix([[  0.        ],\n",
       "        [  0.        ],\n",
       "        [  0.        ],\n",
       "        [949.24359084]])"
      ]
     },
     "execution_count": 21,
     "metadata": {},
     "output_type": "execute_result"
    }
   ],
   "source": [
    "sol.Qvector().todense()*sol.volume2field"
   ]
  },
  {
   "cell_type": "code",
   "execution_count": 22,
   "id": "5d8c92d6-5c05-441e-8c37-9fd1e4988709",
   "metadata": {},
   "outputs": [
    {
     "data": {
      "text/plain": [
       "array([[ 2.05677175e+02],\n",
       "       [-9.89627705e-14],\n",
       "       [ 9.89627705e-14],\n",
       "       [-2.05677175e+02]])"
      ]
     },
     "execution_count": 22,
     "metadata": {},
     "output_type": "execute_result"
    }
   ],
   "source": [
    "sol.Gvector(tmatrix)*sol.volume2field"
   ]
  },
  {
   "cell_type": "code",
   "execution_count": 23,
   "id": "aa78a6a8-62f5-46cb-a97c-e87d8c13e852",
   "metadata": {},
   "outputs": [
    {
     "data": {
      "text/plain": [
       "array([[ 2.25610666e-08],\n",
       "       [ 0.00000000e+00],\n",
       "       [ 3.30872245e-24],\n",
       "       [-2.25610666e-08]])"
      ]
     },
     "execution_count": 23,
     "metadata": {},
     "output_type": "execute_result"
    }
   ],
   "source": [
    "tmatrix.dot(sol.grid.depth)"
   ]
  },
  {
   "cell_type": "code",
   "execution_count": 24,
   "id": "c3f4ca89-652f-4561-bc6a-5a2af1a34f3c",
   "metadata": {},
   "outputs": [
    {
     "data": {
      "text/plain": [
       "array([[2059.],\n",
       "       [1559.],\n",
       "       [1059.],\n",
       "       [ 559.]])"
      ]
     },
     "execution_count": 24,
     "metadata": {},
     "output_type": "execute_result"
    }
   ],
   "source": [
    "sol.grid.depth"
   ]
  },
  {
   "cell_type": "code",
   "execution_count": null,
   "id": "0ac3966f-c238-4d5c-ba08-3482f7dac2f6",
   "metadata": {},
   "outputs": [],
   "source": []
  },
  {
   "cell_type": "code",
   "execution_count": 25,
   "id": "237a5a64-7063-43cf-a081-cc5d43d4a069",
   "metadata": {},
   "outputs": [
    {
     "data": {
      "text/plain": [
       "array([[891.66259506],\n",
       "       [674.98778519],\n",
       "       [458.31297532],\n",
       "       [241.63816544]])"
      ]
     },
     "execution_count": 25,
     "metadata": {},
     "output_type": "execute_result"
    }
   ],
   "source": [
    "sol.pinit"
   ]
  },
  {
   "cell_type": "code",
   "execution_count": 26,
   "id": "b53fe4a7-e2cf-4760-a623-c4021635e8af",
   "metadata": {},
   "outputs": [
    {
     "name": "stdout",
     "output_type": "stream",
     "text": [
      "0 time step is complete...\n",
      "1 time step is complete...\n",
      "2 time step is complete...\n",
      "3 time step is complete...\n",
      "4 time step is complete...\n",
      "5 time step is complete...\n",
      "6 time step is complete...\n",
      "7 time step is complete...\n",
      "8 time step is complete...\n",
      "9 time step is complete...\n",
      "10 time step is complete...\n",
      "11 time step is complete...\n",
      "12 time step is complete...\n",
      "13 time step is complete...\n",
      "14 time step is complete...\n",
      "15 time step is complete...\n",
      "16 time step is complete...\n",
      "17 time step is complete...\n",
      "18 time step is complete...\n",
      "19 time step is complete...\n",
      "20 time step is complete...\n",
      "21 time step is complete...\n",
      "22 time step is complete...\n",
      "23 time step is complete...\n",
      "24 time step is complete...\n",
      "25 time step is complete...\n",
      "26 time step is complete...\n",
      "27 time step is complete...\n",
      "28 time step is complete...\n",
      "29 time step is complete...\n",
      "30 time step is complete...\n",
      "31 time step is complete...\n",
      "32 time step is complete...\n",
      "33 time step is complete...\n",
      "34 time step is complete...\n",
      "35 time step is complete...\n",
      "36 time step is complete...\n",
      "37 time step is complete...\n",
      "38 time step is complete...\n",
      "39 time step is complete...\n",
      "40 time step is complete...\n",
      "41 time step is complete...\n",
      "42 time step is complete...\n",
      "43 time step is complete...\n",
      "44 time step is complete...\n",
      "45 time step is complete...\n",
      "46 time step is complete...\n",
      "47 time step is complete...\n",
      "48 time step is complete...\n",
      "49 time step is complete...\n"
     ]
    }
   ],
   "source": [
    "sol.solve()"
   ]
  },
  {
   "cell_type": "code",
   "execution_count": 28,
   "id": "61670429-46bb-45ea-b9e6-5c84f8d48826",
   "metadata": {},
   "outputs": [
    {
     "data": {
      "text/plain": [
       "array([916.11443552, 725.17545885, 567.20957292, 444.53621207])"
      ]
     },
     "execution_count": 28,
     "metadata": {},
     "output_type": "execute_result"
    }
   ],
   "source": [
    "sol.pressure[:,-1]"
   ]
  },
  {
   "cell_type": "code",
   "execution_count": null,
   "id": "889771fb-ba5a-46f9-884d-a5ec50097e3f",
   "metadata": {},
   "outputs": [],
   "source": []
  }
 ],
 "metadata": {
  "kernelspec": {
   "display_name": "Python 3 (ipykernel)",
   "language": "python",
   "name": "python3"
  },
  "language_info": {
   "codemirror_mode": {
    "name": "ipython",
    "version": 3
   },
   "file_extension": ".py",
   "mimetype": "text/x-python",
   "name": "python",
   "nbconvert_exporter": "python",
   "pygments_lexer": "ipython3",
   "version": "3.12.3"
  }
 },
 "nbformat": 4,
 "nbformat_minor": 5
}
