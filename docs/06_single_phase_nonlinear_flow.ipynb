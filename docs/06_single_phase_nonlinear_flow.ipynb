{
 "cells": [
  {
   "cell_type": "code",
   "execution_count": 1,
   "metadata": {
    "executionInfo": {
     "elapsed": 11,
     "status": "ok",
     "timestamp": 1710484353272,
     "user": {
      "displayName": "Javid Shiriyev",
      "userId": "04377657040188470328"
     },
     "user_tz": -240
    },
    "id": "qKZ9kvnvls4z"
   },
   "outputs": [],
   "source": [
    "import matplotlib.pyplot as plt\n",
    "import numpy as np"
   ]
  },
  {
   "cell_type": "markdown",
   "metadata": {},
   "source": [
    "# Problem Description"
   ]
  },
  {
   "cell_type": "markdown",
   "metadata": {},
   "source": [
    "A 1D, single-phase coreflood flow experiment is conducted with a gas.\n",
    "- The core has following properties:\n",
    "\n",
    "$\n",
    "\\hspace{1cm}\n",
    "\\begin{array}{l}\n",
    "L=1.0\\:\\text{ft},\\: a=0.02\\:\\text{ft}^2,\\: k=50\\:\\text{mD},\\: \\phi=0.2\n",
    "\\end{array}\n",
    "$\n",
    "- The initial pressure is atmospheric, $P=14.7\\:\\text{psia}$.\n",
    "- A constant pressure, $P=200\\:\\text{psia}$, is imposed at $x=0$ and the pressure is maintained at atmospheric, $14.7\\:\\text{psia}$, at $x=L$.\n",
    "- The fluid viscosity is approximately constant, $\\mu_g=0.01\\:\\text{cp}$, and the gas acts ideally at these low pressures.\n",
    "- For the purposes of this problem, the formation volume factor, $B_g$, can be assumed uniform.\n",
    "- Klinkenberg effects can be neglected."
   ]
  },
  {
   "cell_type": "markdown",
   "metadata": {},
   "source": [
    "Determine the pressure field after three iterations of the first timestep using the Picard and Newton's method.\n",
    "- Use four uniform blocks, a timestep of $\\Delta t=1\\text{E-}5\\:\\text{days}$, and an initial guess of $P=14.7\\:\\text{psia}$."
   ]
  },
  {
   "cell_type": "markdown",
   "metadata": {},
   "source": [
    "# Input Parameters"
   ]
  },
  {
   "cell_type": "code",
   "execution_count": 2,
   "metadata": {
    "executionInfo": {
     "elapsed": 11,
     "status": "ok",
     "timestamp": 1710484353273,
     "user": {
      "displayName": "Javid Shiriyev",
      "userId": "04377657040188470328"
     },
     "user_tz": -240
    },
    "id": "nalL2JXHl0g9"
   },
   "outputs": [],
   "source": [
    "#Grid Properties:\n",
    "gnum = 4\n",
    "size = 1.\n",
    "area = 0.02"
   ]
  },
  {
   "cell_type": "code",
   "execution_count": 3,
   "metadata": {},
   "outputs": [],
   "source": [
    "# Reservoir Rock Properties\n",
    "poro = 0.2\n",
    "perm = 50.0"
   ]
  },
  {
   "cell_type": "code",
   "execution_count": 4,
   "metadata": {},
   "outputs": [],
   "source": [
    "# Reservoir Fluid Properties\n",
    "visc = 0.01"
   ]
  },
  {
   "cell_type": "code",
   "execution_count": 5,
   "metadata": {
    "executionInfo": {
     "elapsed": 10,
     "status": "ok",
     "timestamp": 1710484353273,
     "user": {
      "displayName": "Javid Shiriyev",
      "userId": "04377657040188470328"
     },
     "user_tz": -240
    },
    "id": "-l_U6KAwqWo7"
   },
   "outputs": [],
   "source": [
    "# Constraints - Exterior Boundary Conditions\n",
    "pL = 200\n",
    "pR = 14.7"
   ]
  },
  {
   "cell_type": "code",
   "execution_count": 6,
   "metadata": {},
   "outputs": [],
   "source": [
    "# Numerical Settings\n",
    "tstep = 1e-5 # days\n",
    "nstep = 3"
   ]
  },
  {
   "cell_type": "code",
   "execution_count": 7,
   "metadata": {},
   "outputs": [],
   "source": [
    "# Initial reservoir conditioins\n",
    "pinit = 14.7 # psi"
   ]
  },
  {
   "cell_type": "markdown",
   "metadata": {},
   "source": [
    "# Matrix Construction"
   ]
  },
  {
   "cell_type": "code",
   "execution_count": 8,
   "metadata": {},
   "outputs": [],
   "source": [
    "# Field units: unit conversion factor for consistency\n",
    "md_to_ft2 = 1.06235016e-14\n",
    "day_to_sec = 24*60*60\n",
    "cp_to_psi_sec = 1.4503774389728e-7\n",
    "cp_to_psi_day = cp_to_psi_sec/day_to_sec\n",
    "factor = md_to_ft2/cp_to_psi_day"
   ]
  },
  {
   "cell_type": "code",
   "execution_count": 9,
   "metadata": {
    "executionInfo": {
     "elapsed": 9,
     "status": "ok",
     "timestamp": 1710484353274,
     "user": {
      "displayName": "Javid Shiriyev",
      "userId": "04377657040188470328"
     },
     "user_tz": -240
    },
    "id": "wbCcG5ARmx0B"
   },
   "outputs": [
    {
     "data": {
      "text/plain": [
       "400.0"
      ]
     },
     "execution_count": 9,
     "metadata": {},
     "output_type": "execute_result"
    }
   ],
   "source": [
    "# transmissibility value\n",
    "t = (perm*area)/(visc*size/gnum); t"
   ]
  },
  {
   "cell_type": "code",
   "execution_count": 10,
   "metadata": {},
   "outputs": [
    {
     "data": {
      "text/plain": [
       "2.5313977274496575"
      ]
     },
     "execution_count": 10,
     "metadata": {},
     "output_type": "execute_result"
    }
   ],
   "source": [
    "t = t*factor; t"
   ]
  },
  {
   "cell_type": "code",
   "execution_count": 11,
   "metadata": {},
   "outputs": [
    {
     "data": {
      "text/plain": [
       "100.0"
      ]
     },
     "execution_count": 11,
     "metadata": {},
     "output_type": "execute_result"
    }
   ],
   "source": [
    "# storage value\n",
    "a = area*size/gnum*poro/tstep; a"
   ]
  },
  {
   "cell_type": "code",
   "execution_count": 12,
   "metadata": {
    "executionInfo": {
     "elapsed": 8,
     "status": "ok",
     "timestamp": 1710484353274,
     "user": {
      "displayName": "Javid Shiriyev",
      "userId": "04377657040188470328"
     },
     "user_tz": -240
    },
    "id": "xS7DsF6ymygj"
   },
   "outputs": [],
   "source": [
    "# Filling Arrays\n",
    "def filler(gnum,t,pL,pR):\n",
    "\n",
    "    # Initialization of Arrays\n",
    "    T = np.zeros((gnum,gnum))\n",
    "    J = np.zeros((gnum,gnum))\n",
    "    Q = np.zeros((gnum,1))\n",
    "\n",
    "    for i in range(gnum):\n",
    "        if i==0:\n",
    "            T[i,i] = t\n",
    "            T[i,i+1] = -t\n",
    "            J[i,i] = 2*t\n",
    "            Q[i,0] = 2*t*pL\n",
    "        elif i==gnum-1:\n",
    "            T[i,i] = t\n",
    "            T[i,i-1] = -t\n",
    "            J[i,i] = 2*t\n",
    "            Q[i,0] = 2*t*pR\n",
    "        else:\n",
    "            T[i,i] = 2*t\n",
    "            T[i,i+1] = -t\n",
    "            T[i,i-1] = -t\n",
    "\n",
    "    return T,J,Q"
   ]
  },
  {
   "cell_type": "code",
   "execution_count": 13,
   "metadata": {},
   "outputs": [],
   "source": [
    "T,J,Q = filler(gnum,t,pL,pR)"
   ]
  },
  {
   "cell_type": "code",
   "execution_count": 14,
   "metadata": {},
   "outputs": [
    {
     "data": {
      "text/plain": [
       "array([[ 2.53139773, -2.53139773,  0.        ,  0.        ],\n",
       "       [-2.53139773,  5.06279545, -2.53139773,  0.        ],\n",
       "       [ 0.        , -2.53139773,  5.06279545, -2.53139773],\n",
       "       [ 0.        ,  0.        , -2.53139773,  2.53139773]])"
      ]
     },
     "execution_count": 14,
     "metadata": {},
     "output_type": "execute_result"
    }
   ],
   "source": [
    "T"
   ]
  },
  {
   "cell_type": "code",
   "execution_count": 15,
   "metadata": {},
   "outputs": [
    {
     "data": {
      "text/plain": [
       "array([[5.06279545, 0.        , 0.        , 0.        ],\n",
       "       [0.        , 0.        , 0.        , 0.        ],\n",
       "       [0.        , 0.        , 0.        , 0.        ],\n",
       "       [0.        , 0.        , 0.        , 5.06279545]])"
      ]
     },
     "execution_count": 15,
     "metadata": {},
     "output_type": "execute_result"
    }
   ],
   "source": [
    "J"
   ]
  },
  {
   "cell_type": "code",
   "execution_count": 16,
   "metadata": {},
   "outputs": [
    {
     "data": {
      "text/plain": [
       "array([[1012.55909098],\n",
       "       [   0.        ],\n",
       "       [   0.        ],\n",
       "       [  74.42309319]])"
      ]
     },
     "execution_count": 16,
     "metadata": {},
     "output_type": "execute_result"
    }
   ],
   "source": [
    "Q"
   ]
  },
  {
   "cell_type": "code",
   "execution_count": 17,
   "metadata": {},
   "outputs": [],
   "source": [
    "P0 = np.full((gnum,1),pinit)"
   ]
  },
  {
   "cell_type": "markdown",
   "metadata": {},
   "source": [
    "# Solver Functions"
   ]
  },
  {
   "cell_type": "code",
   "execution_count": 18,
   "metadata": {
    "executionInfo": {
     "elapsed": 4,
     "status": "ok",
     "timestamp": 1710485808908,
     "user": {
      "displayName": "Javid Shiriyev",
      "userId": "04377657040188470328"
     },
     "user_tz": -240
    },
    "id": "ZVWSMoY048Am"
   },
   "outputs": [],
   "source": [
    "# Implicit Pressure Calculation Function\n",
    "def pressure(T,J,A,Q,Pn):\n",
    "    return np.linalg.solve((T+J+A),np.matmul(A,Pn)+Q)"
   ]
  },
  {
   "cell_type": "code",
   "execution_count": 19,
   "metadata": {
    "executionInfo": {
     "elapsed": 304,
     "status": "ok",
     "timestamp": 1710485069951,
     "user": {
      "displayName": "Javid Shiriyev",
      "userId": "04377657040188470328"
     },
     "user_tz": -240
    },
    "id": "VHdOrOuLryVI"
   },
   "outputs": [],
   "source": [
    "# Residual Vector Calculation Function\n",
    "def residual(T,J,A,Q,Pn,P):\n",
    "    return -np.matmul((T+J+A),P)+np.matmul(A,Pn)+Q"
   ]
  },
  {
   "cell_type": "markdown",
   "metadata": {},
   "source": [
    "# Picard Method"
   ]
  },
  {
   "cell_type": "code",
   "execution_count": 20,
   "metadata": {
    "colab": {
     "base_uri": "https://localhost:8080/"
    },
    "executionInfo": {
     "elapsed": 5,
     "status": "ok",
     "timestamp": 1710487204419,
     "user": {
      "displayName": "Javid Shiriyev",
      "userId": "04377657040188470328"
     },
     "user_tz": -240
    },
    "id": "qXJbiyKp2Sn0",
    "outputId": "553b0f90-b11c-4358-b023-a7a7499a3b0f"
   },
   "outputs": [
    {
     "name": "stdout",
     "output_type": "stream",
     "text": [
      " 0 9.38136e+02 [82.53311832 29.88986565 18.06691483 15.2920019 ]\n",
      " 1 3.82903e+02 [132.23387485  52.95834541  24.24686398  16.40989552]\n",
      " 2 7.84572e+01 [142.86827257  66.89411718  29.85375902  17.50245286]\n",
      " 3 2.47493e+01 [145.3658956   72.22752944  33.06165573  18.19276961]\n",
      " 4 8.88718e+00 [146.11675443  74.06338575  34.47801554  18.52449572]\n",
      " 5 3.24765e+00 [146.36710065  74.69858643  35.03206855  18.66141982]\n",
      " 6 1.18016e+00 [146.45405669  74.92203804  35.23805716  18.71379019]\n",
      " 7 4.26313e-01 [146.48480883  75.00147601  35.31308058  18.7331215 ]\n",
      " 8 1.53503e-01 [146.49577481  75.02986871  35.34017897  18.74014549]\n",
      " 9 5.51897e-02 [146.49970019  75.0400428   35.34993382  18.74268037]\n",
      "10 1.98295e-02 [146.50110778  75.04369285  35.35344045  18.74359256]\n",
      "11 7.12260e-03 [146.50161293  75.04500304  35.35470027  18.74392042]\n",
      "12 2.55807e-03 [146.50179429  75.04547345  35.35515277  18.74403821]\n",
      "13 9.18674e-04 [146.5018594   75.04564237  35.35531528  18.74408051]\n",
      "14 3.29914e-04 [146.50188279  75.04570303  35.35537364  18.7440957 ]\n",
      "15 1.18477e-04 [146.50189118  75.04572481  35.3553946   18.74410116]\n",
      "16 4.25468e-05 [146.5018942   75.04573263  35.35540213  18.74410312]\n",
      "17 1.52791e-05 [146.50189528  75.04573544  35.35540483  18.74410382]\n",
      "18 5.48694e-06 [146.50189567  75.04573645  35.3554058   18.74410408]\n",
      "19 1.97043e-06 [146.50189581  75.04573681  35.35540615  18.74410417]\n",
      "20 7.07607e-07 [146.50189586  75.04573694  35.35540628  18.7441042 ]\n",
      "         0 [146.50189586  75.04573694  35.35540628  18.7441042 ]\n",
      " 0 1.35789e+02 [165.69335078 102.25497985  53.13947875  23.8947616 ]\n",
      " 1 2.03433e+01 [167.13142797 106.31268465  57.57320981  25.35044126]\n",
      " 2 3.77641e+00 [167.33944455 106.94358182  58.40038028  25.66949143]\n",
      " 3 6.84310e-01 [167.3740531  107.04945504  58.54670371  25.73128066]\n",
      " 4 1.22496e-01 [167.38003427 107.0677914   58.57246987  25.74265541]\n",
      " 5 2.17989e-02 [167.3810823  107.07100674  58.57701511  25.74470474]\n",
      " 6 3.86815e-03 [167.38126697 107.07157347  58.57781816  25.74507044]\n",
      " 7 6.85448e-04 [167.38129958 107.07167358  58.57796017  25.74513541]\n",
      " 8 1.21384e-04 [167.38130535 107.07169129  58.57798529  25.74514693]\n",
      " 9 2.14889e-05 [167.38130637 107.07169442  58.57798973  25.74514897]\n",
      "10 3.80369e-06 [167.38130655 107.07169497  58.57799052  25.74514933]\n",
      "11 6.73234e-07 [167.38130658 107.07169507  58.57799066  25.74514939]\n",
      "         1 [167.38130658 107.07169507  58.57799066  25.74514939]\n",
      " 0 5.79775e+01 [172.77273687 119.59064867  71.02740097  30.85979553]\n",
      " 1 5.12112e+00 [173.03052306 120.38324228  72.13310794  31.42202962]\n",
      " 2 4.46448e-01 [173.04922833 120.44170423  72.22156046  31.47334998]\n",
      " 3 3.80713e-02 [173.05070252 120.44632349  72.22871023  31.4777899 ]\n",
      " 4 3.20672e-03 [173.05082208 120.44669842  72.22929527  31.47816592]\n",
      " 5 2.68267e-04 [173.0508319  120.44672921  72.22934349  31.47819745]\n",
      " 6 2.23619e-05 [173.05083271 120.44673176  72.22934748  31.47820008]\n",
      " 7 1.86055e-06 [173.05083277 120.44673197  72.22934781  31.4782003 ]\n",
      " 8 1.54654e-07 [173.05083278 120.44673198  72.22934783  31.47820032]\n",
      "         2 [173.05083278 120.44673198  72.22934783  31.47820032]\n"
     ]
    }
   ],
   "source": [
    "Pn = np.copy(P0)\n",
    "\n",
    "for n in range(nstep):\n",
    "    Pk = np.copy(Pn)\n",
    "    # print(f\"TIME STEP - {t+1}\")\n",
    "    for k in range(100): # number of max iterations expected\n",
    "        # Fluid Property Calculation\n",
    "        A = np.diag(a/Pk.flatten())\n",
    "        # Residual Calculation\n",
    "        F = residual(T,J,A,Q,Pn,Pk)\n",
    "        e = np.linalg.norm(F,2)\n",
    "        # Pressure calculation\n",
    "        Pk = pressure(T,J,A,Q,Pn)\n",
    "        print(f\"{k:2}\",f\"{e:.5e}\",Pk.flatten())\n",
    "        if e<1e-6:\n",
    "            break\n",
    "    else:\n",
    "        raise Warning(\"It did not converge...\")\n",
    "        \n",
    "    Pn = np.copy(Pk)\n",
    "    \n",
    "    print(f\"{n:10}\",Pn.flatten())"
   ]
  },
  {
   "cell_type": "markdown",
   "metadata": {},
   "source": [
    "# Newton's Method"
   ]
  },
  {
   "cell_type": "code",
   "execution_count": 21,
   "metadata": {},
   "outputs": [],
   "source": [
    "# Jacobian Calculation (Ideal Gas)\n",
    "def jacobian(T,J,A,Pn,P):\n",
    "    return -(T+J)-A*Pn.flatten()/P.flatten()"
   ]
  },
  {
   "cell_type": "code",
   "execution_count": 22,
   "metadata": {
    "id": "FkDZPCKi6sDu"
   },
   "outputs": [
    {
     "name": "stdout",
     "output_type": "stream",
     "text": [
      " 0 9.38136e+02 [82.53311832 29.88986565 18.06691483 15.2920019 ]\n",
      " 1 3.82903e+02 [142.13814037  63.96364099  28.01252312  17.11703556]\n",
      " 2 3.42849e+01 [146.33764957  74.55201314  34.6944062   18.55523794]\n",
      " 3 2.53308e+00 [146.50108404  75.04328443  35.35139616  18.74256369]\n",
      " 4 1.69400e-02 [146.50189586  75.04573692  35.35540619  18.74410414]\n",
      " 5 7.53199e-07 [146.50189589  75.04573702  35.35540635  18.74410422]\n",
      "         0 [146.50189589  75.04573702  35.35540635  18.74410422]\n",
      " 0 1.35789e+02 [165.6933508  102.2549799   53.13947881  23.89476162]\n",
      " 1 2.03433e+01 [167.34136666 106.94704422  58.39472292  25.66235815]\n",
      " 2 7.29592e-01 [167.38126819 107.07157393  58.57779295  25.74502888]\n",
      " 3 9.65329e-04 [167.3813066  107.07169513  58.57799073  25.74514942]\n",
      " 4 1.74034e-09 [167.3813066  107.07169513  58.57799073  25.74514942]\n",
      "         1 [167.3813066  107.07169513  58.57799073  25.74514942]\n",
      " 0 5.79775e+01 [172.77273688 119.5906487   71.02740102  30.85979555]\n",
      " 1 5.12112e+00 [173.04930053 120.44189483  72.22157469  31.4731001 ]\n",
      " 2 3.98732e-02 [173.05083272 120.4467318   72.22934751  31.47820004]\n",
      " 3 2.34838e-06 [173.05083279 120.44673201  72.22934787  31.47820034]\n",
      " 4 2.82792e-13 [173.05083279 120.44673201  72.22934787  31.47820034]\n",
      "         2 [173.05083279 120.44673201  72.22934787  31.47820034]\n"
     ]
    }
   ],
   "source": [
    "P = np.copy(P0)\n",
    "\n",
    "for n in range(nstep):\n",
    "    Pk = np.copy(P)\n",
    "    # print(f\"TIME STEP - {n+1}\")\n",
    "    for k in range(100):\n",
    "        # Fluid Property Calculation\n",
    "        A = np.diag(a/Pk.flatten())\n",
    "        # Residual calculation\n",
    "        F = residual(T,J,A,Q,P,Pk)\n",
    "        e = np.linalg.norm(F,2)\n",
    "        # Pressure calculation\n",
    "        JJ = jacobian(T,J,A,P,Pk)\n",
    "        Pk += np.linalg.solve(JJ,-F)\n",
    "        print(f\"{k:2}\",f\"{e:.5e}\",Pk.flatten())\n",
    "        if e<1e-6:\n",
    "            break\n",
    "    else:\n",
    "        raise Warning(\"It did not converge...\")\n",
    "    P = np.copy(Pk)\n",
    "    print(f\"{n:10}\",P.flatten())"
   ]
  },
  {
   "cell_type": "markdown",
   "metadata": {},
   "source": [
    "# Generalized Solution"
   ]
  },
  {
   "cell_type": "code",
   "execution_count": 23,
   "metadata": {},
   "outputs": [],
   "source": [
    "def solver(gnum,tstep,nstep,method=\"picard\"):\n",
    "\n",
    "    t = (perm*area)/(visc*size/gnum)*factor\n",
    "    T,J,Q = filler(gnum,t,pL,pR)\n",
    "    a = area*size/gnum*poro/tstep\n",
    "    \n",
    "    P0 = np.full((gnum,1),pinit)\n",
    "\n",
    "    Pn = np.copy(P0)\n",
    "    \n",
    "    for n in range(nstep):\n",
    "        Pk = np.copy(Pn)\n",
    "        for k in range(100):\n",
    "            # Fluid Property Calculation\n",
    "            A = np.diag(a/Pk.flatten())\n",
    "            if method==\"explicit\":\n",
    "                Pk = pressure(T,J,A,Q,Pn)\n",
    "                break\n",
    "            # Residual calculation\n",
    "            F = residual(T,J,A,Q,Pn,Pk)\n",
    "            e = np.linalg.norm(F,2)\n",
    "            # Method dependent pressure calculation\n",
    "            if method==\"picard\":\n",
    "                Pk = pressure(T,J,A,Q,Pn)\n",
    "            elif method==\"newton\":\n",
    "                JJ = jacobian(T,J,A,Pn,Pk)\n",
    "                Pk += np.linalg.solve(JJ,-F)\n",
    "            if e<1e-6:\n",
    "                break\n",
    "        Pn = np.copy(Pk)\n",
    "        \n",
    "    xnodes = np.linspace(0,size,gnum+1)\n",
    "    \n",
    "    return (xnodes[1:]+xnodes[:-1])/2,Pn.flatten()"
   ]
  },
  {
   "cell_type": "markdown",
   "metadata": {},
   "source": [
    "Plotting Results:"
   ]
  },
  {
   "cell_type": "code",
   "execution_count": 24,
   "metadata": {},
   "outputs": [
    {
     "data": {
      "image/png": "[encoded data removed]",
      "text/plain": [
       "<Figure size 1200x500 with 1 Axes>"
      ]
     },
     "metadata": {},
     "output_type": "display_data"
    }
   ],
   "source": [
    "fig, ax = plt.subplots(figsize=(12, 5))\n",
    "\n",
    "x1,P1 = solver(100,1e-6,1,method=\"explicit\")\n",
    "x2,P2 = solver(100,1e-6,1,method=\"picard\")\n",
    "x3,P3 = solver(100,1e-6,1,method=\"newton\")\n",
    "\n",
    "ax.plot(x1,P1,\"r--\",label='Explicit')\n",
    "ax.plot(x2,P2,\"r\",label='Picard')\n",
    "ax.plot(x3,P3,\"r.\",label='Newton')\n",
    "\n",
    "x1,P1 = solver(100,1e-6,5,method=\"explicit\")\n",
    "x2,P2 = solver(100,1e-6,5,method=\"picard\")\n",
    "x3,P3 = solver(100,1e-6,5,method=\"newton\")\n",
    "\n",
    "ax.plot(x1,P1,\"g--\",label='Explicit')\n",
    "ax.plot(x2,P2,\"g\",label='Picard')\n",
    "ax.plot(x3,P3,\"g.\",label='Newton')\n",
    "\n",
    "x1,P1 = solver(100,1e-6,10,method=\"explicit\")\n",
    "x2,P2 = solver(100,1e-6,10,method=\"picard\")\n",
    "x3,P3 = solver(100,1e-6,10,method=\"newton\")\n",
    "\n",
    "ax.plot(x1,P1,\"b--\",label='Explicit')\n",
    "ax.plot(x2,P2,\"b\",label='Picard')\n",
    "ax.plot(x3,P3,\"b.\",label='Newton')\n",
    "\n",
    "x1,P1 = solver(100,1e-6,100,method=\"explicit\")\n",
    "x2,P2 = solver(100,1e-6,100,method=\"picard\")\n",
    "x3,P3 = solver(100,1e-6,100,method=\"newton\")\n",
    "\n",
    "line1, = ax.plot(x1,P1,\"k--\",label='Explicit')\n",
    "line2, = ax.plot(x2,P2,\"k\",label='Picard')\n",
    "line3, = ax.plot(x3,P3,\"k.\",label='Newton')\n",
    "\n",
    "ax.hlines(pinit,0,size,color='purple')\n",
    "ax.text(0.01, pinit*0.9, \"Initial Pressure\", color=\"purple\", ha=\"left\",va=\"top\")\n",
    "\n",
    "ax.set_ylabel(\"Core Pressure [psi]\")\n",
    "ax.set_xlabel(\"x-distance [ft]\")\n",
    "\n",
    "ax.set_xlim((0,size))\n",
    "ax.set_ylim((0,pL))\n",
    "\n",
    "legend1 = ax.legend([line1,line2,line3],[\"Explicit\",\"Picard\",\"Newton\"],title=\"Method:\",loc=\"upper right\")\n",
    "\n",
    "# Create secondary legend for colors representing time\n",
    "rpatch = plt.Line2D([0],[0],color=\"r\",lw=2,label=f\"{1*1e-6*24*60*60:.4f} seconds\")\n",
    "gpatch = plt.Line2D([0],[0],color=\"g\",lw=2,label=f\"{5*1e-6*24*60*60:.4f} seconds\")\n",
    "bpatch = plt.Line2D([0],[0],color=\"b\",lw=2,label=f\"{10*1e-6*24*60*60:.4f} seconds\")\n",
    "kpatch = plt.Line2D([0],[0],color=\"k\",lw=2,label=f\"{100*1e-6*24*60*60:.4f} seconds\")\n",
    "\n",
    "legend2 = ax.legend(handles=[rpatch,gpatch,bpatch,kpatch],loc=\"upper center\",bbox_to_anchor=(0.5, 1.1),ncol=4,frameon=False)\n",
    "\n",
    "ax.add_artist(legend1)\n",
    "\n",
    "plt.show()"
   ]
  },
  {
   "cell_type": "code",
   "execution_count": null,
   "metadata": {},
   "outputs": [],
   "source": []
  }
 ],
 "metadata": {
  "colab": {
   "authorship_tag": "ABX9TyMTALu6ooWh/lDrnRfUQHb6",
   "provenance": []
  },
  "kernelspec": {
   "display_name": "Python 3 (ipykernel)",
   "language": "python",
   "name": "python3"
  },
  "language_info": {
   "codemirror_mode": {
    "name": "ipython",
    "version": 3
   },
   "file_extension": ".py",
   "mimetype": "text/x-python",
   "name": "python",
   "nbconvert_exporter": "python",
   "pygments_lexer": "ipython3",
   "version": "3.12.3"
  }
 },
 "nbformat": 4,
 "nbformat_minor": 4
}
