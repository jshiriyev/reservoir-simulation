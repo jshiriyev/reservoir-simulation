{
 "cells": [
  {
   "cell_type": "code",
   "execution_count": 1,
   "id": "891dcadd-f0f5-4eaf-a196-5a921e68fab2",
   "metadata": {},
   "outputs": [],
   "source": [
    "import numpy as np"
   ]
  },
  {
   "cell_type": "code",
   "execution_count": 2,
   "id": "359fb22b-ec52-49e1-a5e1-2830adcf2d19",
   "metadata": {},
   "outputs": [],
   "source": [
    "from scipy.sparse import csr_matrix as csr\n",
    "from scipy.sparse import diags\n",
    "from scipy.sparse import linalg"
   ]
  },
  {
   "cell_type": "code",
   "execution_count": 3,
   "id": "df998b2b-ce5b-4adb-bf87-2ca7de353bf6",
   "metadata": {},
   "outputs": [],
   "source": [
    "import matplotlib.pyplot as plt"
   ]
  },
  {
   "cell_type": "markdown",
   "id": "fb611418-8fe0-4ad1-947c-d736504629a3",
   "metadata": {},
   "source": [
    "# Grid Geometry"
   ]
  },
  {
   "cell_type": "code",
   "execution_count": 4,
   "id": "48386edd-8abe-4c2f-b657-6cf31bf5e73a",
   "metadata": {},
   "outputs": [],
   "source": [
    "grid_num = 200"
   ]
  },
  {
   "cell_type": "code",
   "execution_count": 5,
   "id": "aeee181f-223f-4be7-90dc-5acb322c7d9f",
   "metadata": {},
   "outputs": [],
   "source": [
    "grid_xedge = 1000./grid_num\n",
    "grid_yedge = 200\n",
    "grid_zedge = 10"
   ]
  },
  {
   "cell_type": "code",
   "execution_count": 6,
   "id": "2bf57cda-48dd-4720-a02d-73974fc73354",
   "metadata": {},
   "outputs": [],
   "source": [
    "grid_xcenter = np.arange(grid_xedge/2,1000+grid_xedge/2,grid_xedge)"
   ]
  },
  {
   "cell_type": "code",
   "execution_count": 7,
   "id": "01555206-d5d4-4157-a699-3a46eed54c68",
   "metadata": {},
   "outputs": [],
   "source": [
    "grid_xarea = grid_yedge*grid_zedge"
   ]
  },
  {
   "cell_type": "markdown",
   "id": "f9d94674-b6b6-4438-b3d2-1856cf6b94a8",
   "metadata": {},
   "source": [
    "# Rock Properties"
   ]
  },
  {
   "cell_type": "code",
   "execution_count": 8,
   "id": "e6640aff-2786-41e9-922b-21165f8ef42b",
   "metadata": {},
   "outputs": [],
   "source": [
    "rock_poro = 0.2\n",
    "rock_xperm = 100\n",
    "rock_comp = 0"
   ]
  },
  {
   "cell_type": "markdown",
   "id": "d474108b-c65f-44ca-a667-1399bbc9f877",
   "metadata": {},
   "source": [
    "# Black Oil System"
   ]
  },
  {
   "cell_type": "code",
   "execution_count": 9,
   "id": "39a9e9f4-26af-48cc-9b53-1ae418cbd45b",
   "metadata": {},
   "outputs": [],
   "source": [
    "oil_visc = 1\n",
    "oil_comp = 0\n",
    "oil_fvf = 1"
   ]
  },
  {
   "cell_type": "code",
   "execution_count": 10,
   "id": "12090f6a-7278-4030-8b12-598c890a124f",
   "metadata": {},
   "outputs": [],
   "source": [
    "wat_visc = 1\n",
    "wat_comp = 0\n",
    "wat_fvf = 1"
   ]
  },
  {
   "cell_type": "code",
   "execution_count": 11,
   "id": "d82babb6-d6f8-4bc9-99bb-3effcf90e949",
   "metadata": {},
   "outputs": [],
   "source": [
    "def krw(Sw):\n",
    "  return 0.3*((Sw-0.2)/(1-0.2-0.4))**2"
   ]
  },
  {
   "cell_type": "code",
   "execution_count": 12,
   "id": "2c26b476-9a12-4fd2-8a88-2bb6056f7206",
   "metadata": {},
   "outputs": [],
   "source": [
    "def kro(Sw):\n",
    "  return 0.8*((1.0-Sw-0.4)/(1-0.2-0.4))**2"
   ]
  },
  {
   "cell_type": "markdown",
   "id": "75d9e66a-b122-4bf1-9053-c3eb092481df",
   "metadata": {},
   "source": [
    "# Well Input"
   ]
  },
  {
   "cell_type": "code",
   "execution_count": 13,
   "id": "85646e37-0742-4bdf-a1ef-c3c60efea2d6",
   "metadata": {},
   "outputs": [],
   "source": [
    "w1_block = (0,)\n",
    "w1_radius = 0.25\n",
    "w1_wrate = 1000\n",
    "w1_skin = 0"
   ]
  },
  {
   "cell_type": "code",
   "execution_count": 14,
   "id": "6c80fa7d-fea5-43dd-a2e3-b177744b4fd3",
   "metadata": {},
   "outputs": [],
   "source": [
    "w2_block = (grid_num-1,)\n",
    "w2_radius = 0.25\n",
    "w2_rate = -1000\n",
    "w2_skin = 0"
   ]
  },
  {
   "cell_type": "markdown",
   "id": "f08533e0-e524-44c0-918e-20624eb0e2a6",
   "metadata": {},
   "source": [
    "# Time Settings"
   ]
  },
  {
   "cell_type": "code",
   "execution_count": 15,
   "id": "cffb5171-4b81-4fdf-ae63-677fe5170144",
   "metadata": {},
   "outputs": [],
   "source": [
    "deltat = 0.1\n",
    "tsteps = 1500"
   ]
  },
  {
   "cell_type": "markdown",
   "id": "8dd7511c-f702-47b2-a114-4116b2197abb",
   "metadata": {},
   "source": [
    "# Reservoir Initialization"
   ]
  },
  {
   "cell_type": "code",
   "execution_count": 16,
   "id": "70e83c19-e6b8-4737-9914-a0c193c5671f",
   "metadata": {},
   "outputs": [],
   "source": [
    "init_press = 1000 # not used in the calculations\n",
    "init_swater = 0.2 # not used in the calculations"
   ]
  },
  {
   "cell_type": "code",
   "execution_count": 17,
   "id": "281899a0-b55f-4778-9047-cbbb0b1fc05b",
   "metadata": {},
   "outputs": [],
   "source": [
    "Pn = np.zeros((grid_num,))+init_press"
   ]
  },
  {
   "cell_type": "code",
   "execution_count": 18,
   "id": "c0c89399-3f59-4d24-acca-1a9c9143c306",
   "metadata": {},
   "outputs": [],
   "source": [
    "Swn = np.zeros((grid_num,))+init_swater"
   ]
  },
  {
   "cell_type": "markdown",
   "id": "9fe5381c-3e3d-451d-8158-26888b17d390",
   "metadata": {},
   "source": [
    "# Transmissibility Calculations"
   ]
  },
  {
   "cell_type": "code",
   "execution_count": 19,
   "id": "d0ba3c04-1aa4-4255-8719-f29c67937f0a",
   "metadata": {},
   "outputs": [],
   "source": [
    "xrock = (rock_xperm*grid_xarea)/grid_xedge*6.33e-3"
   ]
  },
  {
   "cell_type": "code",
   "execution_count": 20,
   "id": "99dad0c7-039e-449e-8357-e8611f23caec",
   "metadata": {},
   "outputs": [],
   "source": [
    "def upwinding(Mo,Mw,Pn):\n",
    "    \n",
    "    Mo_upwinded = Mo[:-1]\n",
    "    Mw_upwinded = Mw[:-1]\n",
    "    \n",
    "    Mo_upwinded[Pn[1:]>Pn[:-1]] = Mo[1:][Pn[1:]>Pn[:-1]]\n",
    "    Mw_upwinded[Pn[1:]>Pn[:-1]] = Mw[1:][Pn[1:]>Pn[:-1]]\n",
    "\n",
    "    return Mo_upwinded,Mw_upwinded"
   ]
  },
  {
   "cell_type": "markdown",
   "id": "debe74ea-3ff0-423d-a8e3-322a0b768dfa",
   "metadata": {},
   "source": [
    "# Storage and Total Compressibility Calculations"
   ]
  },
  {
   "cell_type": "code",
   "execution_count": 21,
   "id": "85124a1d-1a2f-436f-ad8a-6c7f6e532696",
   "metadata": {},
   "outputs": [],
   "source": [
    "accum = grid_xarea*grid_xedge*rock_poro/deltat"
   ]
  },
  {
   "cell_type": "code",
   "execution_count": 22,
   "id": "37936886-4832-4565-84ad-10a748b2fd77",
   "metadata": {},
   "outputs": [],
   "source": [
    "def get_ct(cr,co,cw,Sw):\n",
    "  return cr+Sw*cw+(1-Sw)*co"
   ]
  },
  {
   "cell_type": "markdown",
   "id": "7f232324-0319-4a00-b0d8-49fd46eac9dd",
   "metadata": {},
   "source": [
    "# Well B.C. Calculations"
   ]
  },
  {
   "cell_type": "code",
   "execution_count": 23,
   "id": "fd505a3f-b0ef-43a4-845a-cc8712b561d1",
   "metadata": {},
   "outputs": [],
   "source": [
    "def equivalent_radius(perm1,perm2,edge1,edge2):\n",
    "    \"\"\"Returns equivalent radius of grids that contains well.\"\"\"\n",
    "    sqrt21 = np.power(perm2/perm1,1/2)*np.power(edge1,2)\n",
    "    sqrt12 = np.power(perm1/perm2,1/2)*np.power(edge2,2)\n",
    "\n",
    "    quar21 = np.power(perm2/perm1,1/4)\n",
    "    quar12 = np.power(perm1/perm2,1/4)\n",
    "\n",
    "    return 0.28*np.sqrt(sqrt21+sqrt12)/(quar21+quar12)"
   ]
  },
  {
   "cell_type": "code",
   "execution_count": 24,
   "id": "15dc8040-723c-48d6-816e-d270f6750430",
   "metadata": {},
   "outputs": [],
   "source": [
    "req = equivalent_radius(rock_xperm,rock_xperm,grid_xedge,grid_yedge)"
   ]
  },
  {
   "cell_type": "code",
   "execution_count": 25,
   "id": "413b4029-b8ec-4df9-8bc7-6d12eda03a86",
   "metadata": {},
   "outputs": [],
   "source": [
    "w1_PI = (2*np.pi*grid_zedge*rock_xperm)/(np.log(req/w1_radius)+w1_skin)*6.33e-3\n",
    "w2_PI = (2*np.pi*grid_zedge*rock_xperm)/(np.log(req/w2_radius)+w2_skin)*6.33e-3"
   ]
  },
  {
   "cell_type": "markdown",
   "id": "a0c27d7a-d36c-4b09-b147-674b05dff39f",
   "metadata": {},
   "source": [
    "# Matrix Construction"
   ]
  },
  {
   "cell_type": "code",
   "execution_count": 26,
   "id": "30287d88-5bd9-4912-bcbf-4a219a5835aa",
   "metadata": {},
   "outputs": [],
   "source": [
    "def matrix(grid_num,wtrans,otrans,Mw,Mo):\n",
    "    \n",
    "    tindex = np.arange(grid_num)\n",
    "\n",
    "    Tw = csr((grid_num,grid_num))\n",
    "\n",
    "    Tw += csr((wtrans,(tindex[:-1],tindex[:-1])),shape=(grid_num,grid_num))\n",
    "    Tw -= csr((wtrans,(tindex[:-1],tindex[1:] )),shape=(grid_num,grid_num))\n",
    "    \n",
    "    Tw += csr((wtrans,(tindex[1:], tindex[1:] )),shape=(grid_num,grid_num))\n",
    "    Tw -= csr((wtrans,(tindex[1:], tindex[:-1])),shape=(grid_num,grid_num))\n",
    "\n",
    "    To = csr((grid_num,grid_num))\n",
    "    \n",
    "    To += csr((otrans,(tindex[:-1],tindex[:-1])),shape=(grid_num,grid_num))\n",
    "    To -= csr((otrans,(tindex[:-1],tindex[1:] )),shape=(grid_num,grid_num))\n",
    "    \n",
    "    To += csr((otrans,(tindex[1:], tindex[1:] )),shape=(grid_num,grid_num))\n",
    "    To -= csr((otrans,(tindex[1:], tindex[:-1])),shape=(grid_num,grid_num))\n",
    "\n",
    "    qindex = np.array([*w1_block,*w2_block])\n",
    "\n",
    "    qwmatx = np.array([w1_wrate,w2_rate*Mw[w2_block]/(Mw[w2_block]+Mo[w2_block])])\n",
    "    qomatx = np.array([0       ,w2_rate*Mo[w2_block]/(Mw[w2_block]+Mo[w2_block])])\n",
    "\n",
    "    Qw = csr((qwmatx,(qindex,(0,0))),shape=(grid_num,1))\n",
    "    Qo = csr((qomatx,(qindex,(0,0))),shape=(grid_num,1))\n",
    "\n",
    "    return Tw,To,Qw,Qo"
   ]
  },
  {
   "cell_type": "markdown",
   "id": "47afcdd7-cb88-4d8b-9f2e-ee4b5ff72a58",
   "metadata": {},
   "source": [
    "# Time Loop"
   ]
  },
  {
   "cell_type": "code",
   "execution_count": 27,
   "id": "40924fa6-8f29-475e-9b26-f85b3fdd4a67",
   "metadata": {},
   "outputs": [],
   "source": [
    "A = csr((np.ones((grid_num,))*accum,(np.arange(grid_num),np.arange(grid_num))),shape=(grid_num,grid_num))"
   ]
  },
  {
   "cell_type": "code",
   "execution_count": 28,
   "id": "d6e6f4a0-b159-4aad-8ae9-8acc1ed964b2",
   "metadata": {},
   "outputs": [],
   "source": [
    "Sw_data = np.zeros((grid_num,tsteps+1))\n",
    "Sw_data[:,0] = Swn"
   ]
  },
  {
   "cell_type": "code",
   "execution_count": 29,
   "id": "788edd3e-a46d-4aba-862e-7b4279347aef",
   "metadata": {},
   "outputs": [],
   "source": [
    "for k in range(tsteps):\n",
    "    \n",
    "    Mo = kro(Swn)/(oil_visc*oil_fvf)\n",
    "    Mw = krw(Swn)/(wat_visc*wat_fvf)\n",
    "    \n",
    "    Mou,Mwu = upwinding(Mo,Mw,Pn)\n",
    "\n",
    "    otrans = Mou*xrock\n",
    "    wtrans = Mwu*xrock\n",
    "\n",
    "    Tw,To,Qw,Qo = matrix(grid_num,wtrans,otrans,Mw,Mo)\n",
    "\n",
    "    T = Tw+To+diags(np.ones((grid_num,))*1e-10)\n",
    "    Q = Qw+Qo\n",
    "\n",
    "    Pn = linalg.spsolve(T,Q)\n",
    "    \n",
    "    Swn = Swn+linalg.spsolve(A,-Tw.dot(csr(Pn.reshape((-1,1))))+Qw)\n",
    "\n",
    "    Sw_data[:,k+1] = Swn"
   ]
  },
  {
   "cell_type": "code",
   "execution_count": 33,
   "id": "935afbfa-deb5-46e1-8593-fbb06aaf8ed4",
   "metadata": {},
   "outputs": [
    {
     "data": {
      "image/png": "[encoded data removed]",
      "text/plain": [
       "<Figure size 1000x500 with 1 Axes>"
      ]
     },
     "metadata": {},
     "output_type": "display_data"
    }
   ],
   "source": [
    "fig = plt.figure(figsize=(10,5))\n",
    "\n",
    "ax = plt.subplot(1,1,1)\n",
    "\n",
    "ax.set_xlabel('Reservoir Length')\n",
    "ax.set_ylabel('Water Saturation')\n",
    "\n",
    "ax.set_xlim((0,1000))\n",
    "ax.set_ylim((0,1.))\n",
    "\n",
    "line, = ax.plot([],[])\n",
    "\n",
    "line.set_data(grid_xcenter, Swn)"
   ]
  },
  {
   "cell_type": "code",
   "execution_count": 31,
   "id": "32dbd24b-d315-47d3-93db-bd6121118706",
   "metadata": {},
   "outputs": [],
   "source": [
    "def drawframe(n):\n",
    "    \n",
    "    line.set_data(grid_xcenter, Sw_data[:,n])\n",
    "\n",
    "    return (line,)"
   ]
  },
  {
   "cell_type": "code",
   "execution_count": 32,
   "id": "5caf57dc-838d-4542-967c-cc3cd65127ee",
   "metadata": {},
   "outputs": [],
   "source": [
    "from matplotlib import animation\n",
    "from IPython.display import HTML\n",
    "\n",
    "anim = animation.FuncAnimation(fig, drawframe, frames=tsteps, interval=20, blit=True)\n",
    "anim.save(filename=\"rs32_twophase_1D_impes_buckley.gif\", writer=\"pillow\")\n",
    "# HTML(anim.to_html5_video())"
   ]
  },
  {
   "cell_type": "code",
   "execution_count": null,
   "id": "050eab4f-97bb-4577-b55b-34a71c53d111",
   "metadata": {},
   "outputs": [],
   "source": []
  }
 ],
 "metadata": {
  "kernelspec": {
   "display_name": "Python 3 (ipykernel)",
   "language": "python",
   "name": "python3"
  },
  "language_info": {
   "codemirror_mode": {
    "name": "ipython",
    "version": 3
   },
   "file_extension": ".py",
   "mimetype": "text/x-python",
   "name": "python",
   "nbconvert_exporter": "python",
   "pygments_lexer": "ipython3",
   "version": "3.12.4"
  }
 },
 "nbformat": 4,
 "nbformat_minor": 5
}
