{
 "cells": [
  {
   "cell_type": "code",
   "execution_count": 1,
   "id": "891dcadd-f0f5-4eaf-a196-5a921e68fab2",
   "metadata": {},
   "outputs": [],
   "source": [
    "import numpy as np"
   ]
  },
  {
   "cell_type": "markdown",
   "id": "fb611418-8fe0-4ad1-947c-d736504629a3",
   "metadata": {},
   "source": [
    "# Grid Geometry"
   ]
  },
  {
   "cell_type": "code",
   "execution_count": 2,
   "id": "48386edd-8abe-4c2f-b657-6cf31bf5e73a",
   "metadata": {},
   "outputs": [],
   "source": [
    "grid_num = 4"
   ]
  },
  {
   "cell_type": "code",
   "execution_count": 3,
   "id": "aeee181f-223f-4be7-90dc-5acb322c7d9f",
   "metadata": {},
   "outputs": [],
   "source": [
    "grid_xedge = 1000./grid_num\n",
    "grid_yedge = 200\n",
    "grid_zedge = 10"
   ]
  },
  {
   "cell_type": "code",
   "execution_count": 4,
   "id": "01555206-d5d4-4157-a699-3a46eed54c68",
   "metadata": {},
   "outputs": [],
   "source": [
    "grid_xarea = grid_yedge*grid_zedge"
   ]
  },
  {
   "cell_type": "markdown",
   "id": "f9d94674-b6b6-4438-b3d2-1856cf6b94a8",
   "metadata": {},
   "source": [
    "# Rock Properties"
   ]
  },
  {
   "cell_type": "code",
   "execution_count": 5,
   "id": "e6640aff-2786-41e9-922b-21165f8ef42b",
   "metadata": {},
   "outputs": [],
   "source": [
    "rock_poro = 0.2\n",
    "rock_xperm = 100\n",
    "rock_comp = 0"
   ]
  },
  {
   "cell_type": "markdown",
   "id": "d474108b-c65f-44ca-a667-1399bbc9f877",
   "metadata": {},
   "source": [
    "# Black Oil System"
   ]
  },
  {
   "cell_type": "code",
   "execution_count": 6,
   "id": "39a9e9f4-26af-48cc-9b53-1ae418cbd45b",
   "metadata": {},
   "outputs": [],
   "source": [
    "oil_visc = 1\n",
    "oil_comp = 4e-6\n",
    "oil_fvf = 1"
   ]
  },
  {
   "cell_type": "code",
   "execution_count": 7,
   "id": "12090f6a-7278-4030-8b12-598c890a124f",
   "metadata": {},
   "outputs": [],
   "source": [
    "wat_visc = 1\n",
    "wat_comp = 1e-6\n",
    "wat_fvf = 1"
   ]
  },
  {
   "cell_type": "code",
   "execution_count": 8,
   "id": "d82babb6-d6f8-4bc9-99bb-3effcf90e949",
   "metadata": {},
   "outputs": [],
   "source": [
    "def krw(Sw):\n",
    "  return 0.3*((Sw-0.2)/(1-0.2-0.4))**2"
   ]
  },
  {
   "cell_type": "code",
   "execution_count": 9,
   "id": "2c26b476-9a12-4fd2-8a88-2bb6056f7206",
   "metadata": {},
   "outputs": [],
   "source": [
    "def kro(Sw):\n",
    "  return 0.8*((1.0-Sw-0.4)/(1-0.2-0.4))**2"
   ]
  },
  {
   "cell_type": "markdown",
   "id": "75d9e66a-b122-4bf1-9053-c3eb092481df",
   "metadata": {},
   "source": [
    "# Well Input"
   ]
  },
  {
   "cell_type": "code",
   "execution_count": 10,
   "id": "85646e37-0742-4bdf-a1ef-c3c60efea2d6",
   "metadata": {},
   "outputs": [],
   "source": [
    "w1_block = (3,)\n",
    "w1_radius = 0.25\n",
    "w1_wrate = 1000\n",
    "w1_skin = 0"
   ]
  },
  {
   "cell_type": "code",
   "execution_count": 11,
   "id": "6c80fa7d-fea5-43dd-a2e3-b177744b4fd3",
   "metadata": {},
   "outputs": [],
   "source": [
    "w2_block = (0,)\n",
    "w2_radius = 0.25\n",
    "w2_press = 900\n",
    "w2_skin = 0"
   ]
  },
  {
   "cell_type": "markdown",
   "id": "f08533e0-e524-44c0-918e-20624eb0e2a6",
   "metadata": {},
   "source": [
    "# Time Settings"
   ]
  },
  {
   "cell_type": "code",
   "execution_count": 12,
   "id": "cffb5171-4b81-4fdf-ae63-677fe5170144",
   "metadata": {},
   "outputs": [],
   "source": [
    "deltat = 1"
   ]
  },
  {
   "cell_type": "markdown",
   "id": "8dd7511c-f702-47b2-a114-4116b2197abb",
   "metadata": {},
   "source": [
    "# Reservoir Initialization"
   ]
  },
  {
   "cell_type": "code",
   "execution_count": 13,
   "id": "70e83c19-e6b8-4737-9914-a0c193c5671f",
   "metadata": {},
   "outputs": [],
   "source": [
    "init_press = 1000 # not used in the calculations\n",
    "init_swater = 0.2 # not used in the calculations"
   ]
  },
  {
   "cell_type": "markdown",
   "id": "5240a2f7-9be4-475c-a546-ca2d298d2c7e",
   "metadata": {},
   "source": [
    "Conditions at certain time step:"
   ]
  },
  {
   "cell_type": "code",
   "execution_count": 14,
   "id": "e4f9c90e-71a6-4a7c-b88b-abc129fc1d6b",
   "metadata": {},
   "outputs": [],
   "source": [
    "Pn = np.array([1065.3,2187.1,1369.8,3075.4])"
   ]
  },
  {
   "cell_type": "code",
   "execution_count": 15,
   "id": "33909f6c-db6c-4fae-9ee5-dc29b5872a91",
   "metadata": {},
   "outputs": [],
   "source": [
    "Swn = np.array([0.2002,0.2429,0.4346,0.5258])"
   ]
  },
  {
   "cell_type": "markdown",
   "id": "9fe5381c-3e3d-451d-8158-26888b17d390",
   "metadata": {},
   "source": [
    "# Transmissibility Calculations"
   ]
  },
  {
   "cell_type": "markdown",
   "id": "5c2556dd-5863-47cf-b602-0acb5ba29407",
   "metadata": {},
   "source": [
    "Reservoir properties are constant, thus, we have only one xrock value and it is going to be the same after harmonic mean."
   ]
  },
  {
   "cell_type": "code",
   "execution_count": 16,
   "id": "d0ba3c04-1aa4-4255-8719-f29c67937f0a",
   "metadata": {},
   "outputs": [
    {
     "data": {
      "text/plain": [
       "5.064"
      ]
     },
     "execution_count": 16,
     "metadata": {},
     "output_type": "execute_result"
    }
   ],
   "source": [
    "xrock = (rock_xperm*grid_xarea)/grid_xedge*6.33e-3; xrock"
   ]
  },
  {
   "attachments": {},
   "cell_type": "markdown",
   "id": "4b1fa41d-3acd-4a2a-9206-797552af320c",
   "metadata": {},
   "source": [
    "Mobility Calculations:"
   ]
  },
  {
   "cell_type": "code",
   "execution_count": 17,
   "id": "833c9562-ecc0-48a8-af39-3897ac3309fe",
   "metadata": {},
   "outputs": [
    {
     "data": {
      "text/plain": [
       "array([0.7992002 , 0.63760205, 0.1367858 , 0.0275282 ])"
      ]
     },
     "execution_count": 17,
     "metadata": {},
     "output_type": "execute_result"
    }
   ],
   "source": [
    "Mo = kro(Swn)/(oil_visc*oil_fvf); Mo"
   ]
  },
  {
   "cell_type": "code",
   "execution_count": 18,
   "id": "3b37e3dd-6142-4de9-bbac-d9e2fadabd22",
   "metadata": {},
   "outputs": [
    {
     "data": {
      "text/plain": [
       "array([7.50000000e-08, 3.45076875e-03, 1.03194675e-01, 1.99023075e-01])"
      ]
     },
     "execution_count": 18,
     "metadata": {},
     "output_type": "execute_result"
    }
   ],
   "source": [
    "Mw = krw(Swn)/(wat_visc*wat_fvf); Mw"
   ]
  },
  {
   "cell_type": "markdown",
   "id": "3fb993c6-9c18-42a4-9e38-5d0d95e7ce4c",
   "metadata": {},
   "source": [
    "Upwinding:"
   ]
  },
  {
   "cell_type": "code",
   "execution_count": 19,
   "id": "99dad0c7-039e-449e-8357-e8611f23caec",
   "metadata": {},
   "outputs": [],
   "source": [
    "Mo_upwinded = np.zeros((grid_num-1,))\n",
    "Mw_upwinded = np.zeros((grid_num-1,))\n",
    "\n",
    "for index in range(grid_num-1):\n",
    "    if Pn[index]>Pn[index+1]:\n",
    "        Mo_upwinded[index] = Mo[index]\n",
    "        Mw_upwinded[index] = Mw[index]\n",
    "    else:\n",
    "        Mo_upwinded[index] = Mo[index+1]\n",
    "        Mw_upwinded[index] = Mw[index+1]"
   ]
  },
  {
   "cell_type": "code",
   "execution_count": 20,
   "id": "79b639c7-1eef-4b78-8974-1f4d1ad750a6",
   "metadata": {},
   "outputs": [
    {
     "data": {
      "text/plain": [
       "array([0.63760205, 0.63760205, 0.0275282 ])"
      ]
     },
     "execution_count": 20,
     "metadata": {},
     "output_type": "execute_result"
    }
   ],
   "source": [
    "Mo_upwinded"
   ]
  },
  {
   "cell_type": "code",
   "execution_count": 21,
   "id": "db6db771-b71c-4224-9fde-efcd8ba29524",
   "metadata": {},
   "outputs": [
    {
     "data": {
      "text/plain": [
       "array([0.00345077, 0.00345077, 0.19902307])"
      ]
     },
     "execution_count": 21,
     "metadata": {},
     "output_type": "execute_result"
    }
   ],
   "source": [
    "Mw_upwinded"
   ]
  },
  {
   "cell_type": "markdown",
   "id": "18b548a3-ae6e-44ae-aa6a-017db3a37c40",
   "metadata": {},
   "source": [
    "Transmissibility values for both phases:"
   ]
  },
  {
   "cell_type": "code",
   "execution_count": 22,
   "id": "b65399aa-261f-42d4-b6b8-bdab4a0e304a",
   "metadata": {},
   "outputs": [
    {
     "data": {
      "text/plain": [
       "array([3.22881678, 3.22881678, 0.1394028 ])"
      ]
     },
     "execution_count": 22,
     "metadata": {},
     "output_type": "execute_result"
    }
   ],
   "source": [
    "otrans = Mo_upwinded*xrock; otrans"
   ]
  },
  {
   "cell_type": "code",
   "execution_count": 23,
   "id": "8c00c76e-a302-4316-9b1f-bb649eed9c00",
   "metadata": {},
   "outputs": [
    {
     "data": {
      "text/plain": [
       "array([0.01747469, 0.01747469, 1.00785285])"
      ]
     },
     "execution_count": 23,
     "metadata": {},
     "output_type": "execute_result"
    }
   ],
   "source": [
    "wtrans = Mw_upwinded*xrock; wtrans"
   ]
  },
  {
   "cell_type": "markdown",
   "id": "debe74ea-3ff0-423d-a8e3-322a0b768dfa",
   "metadata": {},
   "source": [
    "# Storage and Total Compressibility Calculations"
   ]
  },
  {
   "cell_type": "code",
   "execution_count": 24,
   "id": "85124a1d-1a2f-436f-ad8a-6c7f6e532696",
   "metadata": {},
   "outputs": [
    {
     "data": {
      "text/plain": [
       "100000.0"
      ]
     },
     "execution_count": 24,
     "metadata": {},
     "output_type": "execute_result"
    }
   ],
   "source": [
    "accum = grid_xarea*grid_xedge*rock_poro/deltat; accum"
   ]
  },
  {
   "cell_type": "code",
   "execution_count": 25,
   "id": "37936886-4832-4565-84ad-10a748b2fd77",
   "metadata": {},
   "outputs": [],
   "source": [
    "def get_ct(cr,co,cw,Sw):\n",
    "  return cr+Sw*cw+(1-Sw)*co"
   ]
  },
  {
   "cell_type": "code",
   "execution_count": 26,
   "id": "096d1e8a-8145-4731-a64e-3c5f4ca65a8a",
   "metadata": {},
   "outputs": [
    {
     "data": {
      "text/plain": [
       "array([3.3994e-06, 3.2713e-06, 2.6962e-06, 2.4226e-06])"
      ]
     },
     "execution_count": 26,
     "metadata": {},
     "output_type": "execute_result"
    }
   ],
   "source": [
    "ct = get_ct(rock_comp,oil_comp,wat_comp,Swn); ct"
   ]
  },
  {
   "cell_type": "markdown",
   "id": "7f232324-0319-4a00-b0d8-49fd46eac9dd",
   "metadata": {},
   "source": [
    "# Well B.C. Calculations"
   ]
  },
  {
   "cell_type": "code",
   "execution_count": 27,
   "id": "fd505a3f-b0ef-43a4-845a-cc8712b561d1",
   "metadata": {},
   "outputs": [],
   "source": [
    "def equivalent_radius(perm1,perm2,edge1,edge2):\n",
    "    \"\"\"Returns equivalent radius of grids that contains well.\"\"\"\n",
    "    sqrt21 = np.power(perm2/perm1,1/2)*np.power(edge1,2)\n",
    "    sqrt12 = np.power(perm1/perm2,1/2)*np.power(edge2,2)\n",
    "\n",
    "    quar21 = np.power(perm2/perm1,1/4)\n",
    "    quar12 = np.power(perm1/perm2,1/4)\n",
    "\n",
    "    return 0.28*np.sqrt(sqrt21+sqrt12)/(quar21+quar12)"
   ]
  },
  {
   "cell_type": "code",
   "execution_count": 28,
   "id": "15dc8040-723c-48d6-816e-d270f6750430",
   "metadata": {},
   "outputs": [],
   "source": [
    "req = equivalent_radius(rock_xperm,rock_xperm,grid_xedge,grid_yedge)"
   ]
  },
  {
   "cell_type": "code",
   "execution_count": 29,
   "id": "413b4029-b8ec-4df9-8bc7-6d12eda03a86",
   "metadata": {},
   "outputs": [],
   "source": [
    "w1_PI = (2*np.pi*grid_zedge*rock_xperm)/(np.log(req/w1_radius)+w1_skin)*6.33e-3\n",
    "w2_PI = (2*np.pi*grid_zedge*rock_xperm)/(np.log(req/w2_radius)+w2_skin)*6.33e-3"
   ]
  },
  {
   "cell_type": "code",
   "execution_count": 30,
   "id": "3b6943a9-b963-4bb3-95c3-a8eecf2930fc",
   "metadata": {},
   "outputs": [
    {
     "data": {
      "text/plain": [
       "0.21099808516503138"
      ]
     },
     "execution_count": 30,
     "metadata": {},
     "output_type": "execute_result"
    }
   ],
   "source": [
    "w1_PI_o = w1_PI*Mo[w1_block]; w1_PI_o"
   ]
  },
  {
   "cell_type": "code",
   "execution_count": 31,
   "id": "6c9af0e1-be13-4171-b85a-5ac4638b1657",
   "metadata": {},
   "outputs": [
    {
     "data": {
      "text/plain": [
       "1.5254716156035082"
      ]
     },
     "execution_count": 31,
     "metadata": {},
     "output_type": "execute_result"
    }
   ],
   "source": [
    "w1_PI_w = w1_PI*Mw[w1_block]; w1_PI_w"
   ]
  },
  {
   "cell_type": "code",
   "execution_count": 32,
   "id": "c738d994-751b-42f5-9a91-1e20b346caf3",
   "metadata": {},
   "outputs": [
    {
     "data": {
      "text/plain": [
       "6.1257078873122985"
      ]
     },
     "execution_count": 32,
     "metadata": {},
     "output_type": "execute_result"
    }
   ],
   "source": [
    "w2_PI_o = w2_PI*Mo[w2_block]; w2_PI_o"
   ]
  },
  {
   "cell_type": "code",
   "execution_count": 33,
   "id": "c415448e-5c79-41df-96d0-e82d071a8a96",
   "metadata": {},
   "outputs": [
    {
     "data": {
      "text/plain": [
       "5.748598305509948e-07"
      ]
     },
     "execution_count": 33,
     "metadata": {},
     "output_type": "execute_result"
    }
   ],
   "source": [
    "w2_PI_w = w2_PI*Mw[w2_block]; w2_PI_w"
   ]
  },
  {
   "cell_type": "markdown",
   "id": "a0c27d7a-d36c-4b09-b147-674b05dff39f",
   "metadata": {},
   "source": [
    "# Matrix Construction"
   ]
  },
  {
   "cell_type": "code",
   "execution_count": 34,
   "id": "30287d88-5bd9-4912-bcbf-4a219a5835aa",
   "metadata": {},
   "outputs": [],
   "source": [
    "Tw = np.zeros((grid_num,grid_num))\n",
    "To = np.zeros((grid_num,grid_num))\n",
    "\n",
    "Jw = np.zeros((grid_num,grid_num))\n",
    "Jo = np.zeros((grid_num,grid_num))\n",
    "\n",
    "Qw = np.zeros((grid_num,1))\n",
    "Qo = np.zeros((grid_num,1))\n",
    "\n",
    "A = np.zeros((grid_num,grid_num))\n",
    "\n",
    "Pwf = np.zeros((grid_num,1))\n",
    "\n",
    "for i in range(grid_num):\n",
    "    if i == 0:\n",
    "        Tw[i,i] = wtrans[i]\n",
    "        Tw[i,i+1] = -wtrans[i]\n",
    "        To[i,i] = otrans[i]\n",
    "        To[i,i+1] = -otrans[i]\n",
    "        Jw[i,i] = w2_PI_w\n",
    "        Jo[i,i] = w2_PI_o\n",
    "        Qw[i,0] = Jw[i,i]*w2_press\n",
    "        Qo[i,0] = Jo[i,i]*w2_press\n",
    "        Pwf[i,0] = w2_press\n",
    "    elif i == 3:\n",
    "        Tw[i,i] = wtrans[i-1]\n",
    "        Tw[i,i-1] = -wtrans[i-1]\n",
    "        To[i,i] = otrans[i-1]\n",
    "        To[i,i-1] = -otrans[i-1]\n",
    "        Qw[i,0] = w1_wrate\n",
    "    else:\n",
    "        Tw[i,i] = wtrans[i]+wtrans[i-1]\n",
    "        Tw[i,i+1] = -wtrans[i]\n",
    "        Tw[i,i-1] = -wtrans[i-1]\n",
    "        To[i,i] = otrans[i]+otrans[i-1]\n",
    "        To[i,i+1] = -otrans[i]\n",
    "        To[i,i-1] = -otrans[i-1]\n",
    "    A[i,i] = grid_xarea*grid_xedge*rock_poro/deltat"
   ]
  },
  {
   "cell_type": "code",
   "execution_count": 35,
   "id": "6d553f74-8301-4cbb-b857-02f1ec674c2b",
   "metadata": {},
   "outputs": [
    {
     "data": {
      "text/plain": [
       "array([[ 0.01747469, -0.01747469,  0.        ,  0.        ],\n",
       "       [-0.01747469,  0.03494939, -0.01747469,  0.        ],\n",
       "       [ 0.        , -0.01747469,  1.02532754, -1.00785285],\n",
       "       [ 0.        ,  0.        , -1.00785285,  1.00785285]])"
      ]
     },
     "execution_count": 35,
     "metadata": {},
     "output_type": "execute_result"
    }
   ],
   "source": [
    "Tw"
   ]
  },
  {
   "cell_type": "code",
   "execution_count": 36,
   "id": "319d74c3-cc4c-4083-9e65-2e372ce2d658",
   "metadata": {},
   "outputs": [
    {
     "data": {
      "text/plain": [
       "array([[ 3.22881678, -3.22881678,  0.        ,  0.        ],\n",
       "       [-3.22881678,  6.45763356, -3.22881678,  0.        ],\n",
       "       [ 0.        , -3.22881678,  3.36821959, -0.1394028 ],\n",
       "       [ 0.        ,  0.        , -0.1394028 ,  0.1394028 ]])"
      ]
     },
     "execution_count": 36,
     "metadata": {},
     "output_type": "execute_result"
    }
   ],
   "source": [
    "To"
   ]
  },
  {
   "cell_type": "code",
   "execution_count": 37,
   "id": "6a4ca906-5e66-4301-bb09-f7be151a0608",
   "metadata": {},
   "outputs": [
    {
     "data": {
      "text/plain": [
       "array([[5.74859831e-07, 0.00000000e+00, 0.00000000e+00, 0.00000000e+00],\n",
       "       [0.00000000e+00, 0.00000000e+00, 0.00000000e+00, 0.00000000e+00],\n",
       "       [0.00000000e+00, 0.00000000e+00, 0.00000000e+00, 0.00000000e+00],\n",
       "       [0.00000000e+00, 0.00000000e+00, 0.00000000e+00, 0.00000000e+00]])"
      ]
     },
     "execution_count": 37,
     "metadata": {},
     "output_type": "execute_result"
    }
   ],
   "source": [
    "Jw"
   ]
  },
  {
   "cell_type": "code",
   "execution_count": 38,
   "id": "baa15143-d4bd-40ab-8276-9c019ed686b5",
   "metadata": {},
   "outputs": [
    {
     "data": {
      "text/plain": [
       "array([[6.12570789, 0.        , 0.        , 0.        ],\n",
       "       [0.        , 0.        , 0.        , 0.        ],\n",
       "       [0.        , 0.        , 0.        , 0.        ],\n",
       "       [0.        , 0.        , 0.        , 0.        ]])"
      ]
     },
     "execution_count": 38,
     "metadata": {},
     "output_type": "execute_result"
    }
   ],
   "source": [
    "Jo"
   ]
  },
  {
   "cell_type": "code",
   "execution_count": 39,
   "id": "fbfdece7-b9d5-4ea6-8ae9-777c723fe264",
   "metadata": {},
   "outputs": [
    {
     "data": {
      "text/plain": [
       "array([[5.17373847e-04],\n",
       "       [0.00000000e+00],\n",
       "       [0.00000000e+00],\n",
       "       [1.00000000e+03]])"
      ]
     },
     "execution_count": 39,
     "metadata": {},
     "output_type": "execute_result"
    }
   ],
   "source": [
    "Qw"
   ]
  },
  {
   "cell_type": "code",
   "execution_count": 40,
   "id": "8786b27a-249a-4b12-89d2-03fca1dfa667",
   "metadata": {},
   "outputs": [
    {
     "data": {
      "text/plain": [
       "array([[5513.13709858],\n",
       "       [   0.        ],\n",
       "       [   0.        ],\n",
       "       [   0.        ]])"
      ]
     },
     "execution_count": 40,
     "metadata": {},
     "output_type": "execute_result"
    }
   ],
   "source": [
    "Qo"
   ]
  },
  {
   "cell_type": "code",
   "execution_count": 41,
   "id": "0d873492-903c-49ae-820d-114372e5dd5d",
   "metadata": {},
   "outputs": [
    {
     "data": {
      "text/plain": [
       "array([[ 3.24629147, -3.24629147,  0.        ,  0.        ],\n",
       "       [-3.24629147,  6.49258295, -3.24629147,  0.        ],\n",
       "       [ 0.        , -3.24629147,  4.39354713, -1.14725566],\n",
       "       [ 0.        ,  0.        , -1.14725566,  1.14725566]])"
      ]
     },
     "execution_count": 41,
     "metadata": {},
     "output_type": "execute_result"
    }
   ],
   "source": [
    "T = Tw+To; T"
   ]
  },
  {
   "cell_type": "code",
   "execution_count": 42,
   "id": "553fc6c6-48ce-41e7-bcb0-5cd18773768a",
   "metadata": {},
   "outputs": [
    {
     "data": {
      "text/plain": [
       "array([[0.33994, 0.     , 0.     , 0.     ],\n",
       "       [0.     , 0.32713, 0.     , 0.     ],\n",
       "       [0.     , 0.     , 0.26962, 0.     ],\n",
       "       [0.     , 0.     , 0.     , 0.24226]])"
      ]
     },
     "execution_count": 42,
     "metadata": {},
     "output_type": "execute_result"
    }
   ],
   "source": [
    "Act = np.matmul(A,np.diag(ct)); Act"
   ]
  },
  {
   "cell_type": "code",
   "execution_count": 43,
   "id": "3dd40913-5d33-4c02-950f-f39764e73d6e",
   "metadata": {},
   "outputs": [
    {
     "data": {
      "text/plain": [
       "array([[6.12570846, 0.        , 0.        , 0.        ],\n",
       "       [0.        , 0.        , 0.        , 0.        ],\n",
       "       [0.        , 0.        , 0.        , 0.        ],\n",
       "       [0.        , 0.        , 0.        , 0.        ]])"
      ]
     },
     "execution_count": 43,
     "metadata": {},
     "output_type": "execute_result"
    }
   ],
   "source": [
    "J = Jw+Jo; J"
   ]
  },
  {
   "cell_type": "code",
   "execution_count": 44,
   "id": "20c81af3-41f6-406e-af3c-51a14987158c",
   "metadata": {},
   "outputs": [
    {
     "data": {
      "text/plain": [
       "array([[5513.13761595],\n",
       "       [   0.        ],\n",
       "       [   0.        ],\n",
       "       [1000.        ]])"
      ]
     },
     "execution_count": 44,
     "metadata": {},
     "output_type": "execute_result"
    }
   ],
   "source": [
    "Q = Qw+Qo; Q"
   ]
  },
  {
   "cell_type": "markdown",
   "id": "e4f326d9-2725-404a-b076-93f5ac068bd1",
   "metadata": {},
   "source": [
    "# Solving Linear System of Equations"
   ]
  },
  {
   "cell_type": "code",
   "execution_count": 45,
   "id": "1283dc94-3faa-40d5-9fc7-32638e0ce074",
   "metadata": {},
   "outputs": [
    {
     "data": {
      "text/plain": [
       "array([1096.28026655, 1469.90263878, 1771.25276601, 2718.30413795])"
      ]
     },
     "execution_count": 45,
     "metadata": {},
     "output_type": "execute_result"
    }
   ],
   "source": [
    "Pnew = np.linalg.solve(T+J+Act,np.matmul(Act,Pn.reshape((-1,1)))+Q); Pnew.flatten()"
   ]
  },
  {
   "cell_type": "code",
   "execution_count": 46,
   "id": "c897ec35-5756-4d9e-b125-ce4d7ac8bdd7",
   "metadata": {},
   "outputs": [
    {
     "data": {
      "text/plain": [
       "array([0.20025909, 0.24306158, 0.44391775, 0.52644288])"
      ]
     },
     "execution_count": 46,
     "metadata": {},
     "output_type": "execute_result"
    }
   ],
   "source": [
    "Swnew = Swn+np.linalg.solve(A,np.matmul(-Tw,Pnew)+Qw+np.matmul(Jw,Pwf-Pnew)).flatten()-Swn*(wat_comp+rock_comp)*(Pnew.flatten()-Pn); Swnew"
   ]
  },
  {
   "cell_type": "code",
   "execution_count": null,
   "id": "101fc768-c2c3-4c5c-9ad5-38b06def8cb0",
   "metadata": {},
   "outputs": [],
   "source": []
  }
 ],
 "metadata": {
  "kernelspec": {
   "display_name": "Python 3 (ipykernel)",
   "language": "python",
   "name": "python3"
  },
  "language_info": {
   "codemirror_mode": {
    "name": "ipython",
    "version": 3
   },
   "file_extension": ".py",
   "mimetype": "text/x-python",
   "name": "python",
   "nbconvert_exporter": "python",
   "pygments_lexer": "ipython3",
   "version": "3.12.4"
  }
 },
 "nbformat": 4,
 "nbformat_minor": 5
}
